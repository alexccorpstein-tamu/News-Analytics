{
 "cells": [
  {
   "cell_type": "code",
   "execution_count": 2,
   "id": "d01dd2d1",
   "metadata": {},
   "outputs": [],
   "source": [
    "import xgboost as xgb\n",
    "import pandas as pd\n",
    "import os\n",
    "import math\n",
    "from tqdm import tqdm\n",
    "from gensim import corpora\n",
    "from collections import defaultdict\n",
    "from gensim import models\n",
    "\n",
    "import matplotlib.pyplot as plt\n",
    "import numpy as np\n",
    "import sklearn as sk\n",
    "import plotly.express as px\n",
    "from datetime import datetime\n",
    "from sklearn.metrics import mean_absolute_error, mean_squared_error, r2_score\n",
    "import seaborn as sns\n",
    "import pickle\n",
    "\n",
    "from nltk.sentiment import SentimentIntensityAnalyzer\n",
    "from textblob import TextBlob\n",
    "import nltk\n",
    "\n",
    "#nltk.download('stopwords')\n",
    "#nltk.download('vader_lexicon')\n",
    "\n",
    "from nltk.corpus import stopwords\n",
    "stop_set = set(stopwords.words('english'))"
   ]
  },
  {
   "cell_type": "code",
   "execution_count": 23,
   "id": "4bddcf86",
   "metadata": {},
   "outputs": [],
   "source": [
    "def create_texts(article):\n",
    "    texts = [ [word for word in document.lower().split() if word not in stop_set] for document in article]\n",
    "\n",
    "\n",
    "    frequency = defaultdict(int)\n",
    "\n",
    "    for text in texts:\n",
    "        for token in text:\n",
    "            frequency[token] += 1\n",
    "\n",
    "    #texts = [ [token for token in text if frequency[token] > 1] for text in texts]\n",
    "\n",
    "\n",
    "\n",
    "\n",
    "\n",
    "    return texts"
   ]
  },
  {
   "cell_type": "code",
   "execution_count": 24,
   "id": "650b299a",
   "metadata": {},
   "outputs": [],
   "source": [
    "def compute_coherence(dictionary, corpus, texts, cohere_vers, chunksize,\n",
    "                      limit, start, step):\n",
    "## Iterates through all the number of topics defined by start and stop and creating LDA models to calculate the coherence\n",
    "    coherence_vals = []\n",
    "    \n",
    "    for i in tqdm (range(start,limit,step)):\n",
    "        num_topics = i\n",
    "        lda_model = models.ldamodel.LdaModel(corpus, \n",
    "                                             id2word=dictionary, \n",
    "                                             num_topics=num_topics,\n",
    "                                             chunksize = chunksize,\n",
    "                                             iterations = iterations,\n",
    "                                             passes = passes, \n",
    "                                             eval_every = eval_every,\n",
    "                                             random_state = 3)\n",
    "        coherencemod=models.coherencemodel.CoherenceModel(model=lda_model,\n",
    "                                                          texts=texts,\n",
    "                                                          dictionary=dictionary,\n",
    "                                                          coherence='c_v')\n",
    "        coherence_vals.append(coherencemod.get_coherence())\n",
    "        #print(\"Num_topics:\",i, \"Coherence:\",coherencemod.get_coherence())\n",
    "    \n",
    "\n",
    "        \n",
    "    return coherence_vals"
   ]
  },
  {
   "cell_type": "code",
   "execution_count": 25,
   "id": "fd023153",
   "metadata": {},
   "outputs": [],
   "source": [
    "def cosine_simil_score(a,b):\n",
    "## Function to check for duplicates and also outlier documents that are not related to other articles in the corpus\n",
    "    thing = a.copy()\n",
    "    thing2 = b.copy()\n",
    "\n",
    "\n",
    "    ## Loops to create document matrix that are the same size ##\n",
    "    if len(thing) != len(thing2):\n",
    "        if len(thing) > len(thing2):\n",
    "            diff = len(thing)-len(thing2)\n",
    "            for i in range(0,diff):\n",
    "                thing2.append((0,0))\n",
    "        else:\n",
    "            diff = len(thing2) - len(thing)\n",
    "            for i in range(0,diff):\n",
    "                thing.append((0,0))\n",
    "\n",
    "\n",
    "    ## Creates word vectors to do cosine simularity on ##\n",
    "    wordsA = []\n",
    "    wordsB = []\n",
    "    for i in thing:\n",
    "        wordsA.append(i[0])\n",
    "    for i in thing2:\n",
    "        wordsB.append(i[0])\n",
    "\n",
    "\n",
    "\n",
    "    ## Math on the word vectors\n",
    "    dot = np.dot(wordsA,wordsB) \n",
    "    magA = np.linalg.norm(wordsA) \n",
    "    magB = np.linalg.norm(wordsB) \n",
    "\n",
    "\n",
    "    css = np.arccos(dot / (magA *magB)) * (180 / np.pi)\n",
    "    return css\n"
   ]
  },
  {
   "cell_type": "markdown",
   "id": "2ca6719d",
   "metadata": {},
   "source": [
    "**Sentiment and Subjectivity Analyzer**"
   ]
  },
  {
   "cell_type": "code",
   "execution_count": 29,
   "id": "bae766db",
   "metadata": {},
   "outputs": [
    {
     "name": "stderr",
     "output_type": "stream",
     "text": [
      "100%|██████████████████████████████████████████████████████████████████████████| 2225/2225 [00:17<00:00, 130.79it/s]\n"
     ]
    }
   ],
   "source": [
    "\n",
    "dataframe = pd.read_csv('C:\\\\Users\\\\jimni\\\\LocalCapstone\\\\tfidf_dataset.csv')\n",
    "dataframe = dataframe.dropna()\n",
    "#print(dataframe)\n",
    "\n",
    "#results dicitonary is a list for the NLTK scores\n",
    "results = {}\n",
    "\n",
    "#blobRes dictionary is a list for blobText scores\n",
    "blobRes = {}\n",
    "\n",
    "#texts dictionary is a list for the conent of the articles to be cleaned\n",
    "texts = {}\n",
    "\n",
    "#heads is a dictionary for the content of the headings to be cleaned\n",
    "#heads = {}\n",
    "sent = SentimentIntensityAnalyzer()\n",
    "#print(\"hi\")\n",
    "\n",
    "for i, row in tqdm(dataframe.iterrows(), total = len(dataframe)):\n",
    "    #assign row variables\n",
    "    text = row['article']\n",
    "    Id = row['index']\n",
    "\n",
    "    \n",
    "    #normalize text (lowercase)\n",
    "    text = text.lower()\n",
    "    \n",
    "    #for each article, take the polarity scores\n",
    "    results[Id] = sent.polarity_scores(text)\n",
    "    texts[Id] = text\n",
    "    \n",
    "    #put into a list of cleaned content for each article\n",
    "    \n",
    "    #obtain list of each TextBlob sentiment/subjectivity score from the blobtext variable\n",
    "    blobRes[Id] = (TextBlob(text).sentiment)"
   ]
  },
  {
   "cell_type": "code",
   "execution_count": 30,
   "id": "2fab74cf",
   "metadata": {},
   "outputs": [
    {
     "name": "stderr",
     "output_type": "stream",
     "text": [
      "100%|██████████████████████████████████████████████████████████████████████████| 2225/2225 [00:03<00:00, 672.90it/s]"
     ]
    },
    {
     "name": "stdout",
     "output_type": "stream",
     "text": [
      "      index                                            article          topic  \\\n",
      "0         0  musicians tackle red tape musicians groups tac...  entertainment   \n",
      "1         1  u2 desire number u2 won prestigious grammy awa...  entertainment   \n",
      "2         2  rocker doherty stage fight rock singer pete do...  entertainment   \n",
      "3         3  snicket tops box office chart film adaptation ...  entertainment   \n",
      "4         4  ocean raids box office ocean crime caper seque...  entertainment   \n",
      "...     ...                                                ...            ...   \n",
      "2220   2220  norway upholds napster ruling norwegian studen...           tech   \n",
      "2221   2221  warning windows word files writing microsoft w...           tech   \n",
      "2222   2222  fast lifts record books high speed lifts world...           tech   \n",
      "2223   2223  nintendo adds media playing ds nintendo releas...           tech   \n",
      "2224   2224  fast moving phone viruses appear security firm...           tech   \n",
      "\n",
      "        neg    neu    pos  compound  Sentiment  Subjectivity  \n",
      "0     0.129  0.719  0.151    0.6597   0.064755      0.243527  \n",
      "1     0.111  0.669  0.220    0.9896   0.103661      0.489215  \n",
      "2     0.150  0.720  0.130   -0.8481   0.066071      0.242651  \n",
      "3     0.132  0.732  0.136   -0.5423  -0.187500      0.900000  \n",
      "4     0.073  0.765  0.162    0.9217   0.124074      0.405556  \n",
      "...     ...    ...    ...       ...        ...           ...  \n",
      "2220  0.096  0.776  0.128    0.7845   0.050000      0.310185  \n",
      "2221  0.118  0.764  0.118   -0.4538  -0.056151      0.583214  \n",
      "2222  0.036  0.893  0.071    0.8519   0.143542      0.524167  \n",
      "2223  0.000  0.840  0.160    0.9665   0.033333      0.446667  \n",
      "2224  0.213  0.691  0.096   -0.9638   0.067194      0.537747  \n",
      "\n",
      "[2225 rows x 9 columns]\n"
     ]
    },
    {
     "name": "stderr",
     "output_type": "stream",
     "text": [
      "\n"
     ]
    }
   ],
   "source": [
    "#obtain datadrame from results list using pandas\n",
    "NLTK = pd.DataFrame(results).T\n",
    "\n",
    "#reset the dataframe index and change column name to Id\n",
    "NLTK = NLTK.reset_index(drop = True)\n",
    "\n",
    "#combine the results data witht the original csv dataframe\n",
    "vaders = pd.concat([dataframe, NLTK], axis = 1, join = 'outer')\n",
    "\n",
    "#create dataframe using list of TextBlob scores\n",
    "BlobFrame = pd.DataFrame(blobRes).T\n",
    "\n",
    "#re-lable columns for better readability\n",
    "BlobFrame.columns = ['Sentiment', 'Subjectivity']\n",
    "\n",
    "#reset blobframe index so that when concated, they line up\n",
    "BlobFrame = BlobFrame.reset_index(drop = True)\n",
    "\n",
    "#combine the updated csv (from the last line of code) to the textblob scores dataframe\n",
    "vaderBlob = pd.concat([vaders, BlobFrame], axis = 1, join = 'outer')\n",
    "\n",
    "#initialize k\n",
    "k = 0\n",
    "\n",
    "#replace the heading with cleaned heading using a loop\n",
    "for i, row in tqdm(vaders.iterrows(), total = len(vaders)):\n",
    "    #heading = row['headline']\n",
    "    text = row['article']\n",
    "    \n",
    "    #set the headings to be replaced to the list of head at position k\n",
    "    #headreplace = heads[k]\n",
    "    textreplace = texts[k]\n",
    "    \n",
    "    #replace the headings and update the vaderBlob dataframe by setting it equal to the new replaced dataframe\n",
    "    #vaderBlob = vaderBlob.replace(heading, headreplace)\n",
    "    vaderBlob = vaderBlob.replace(text, textreplace)\n",
    "    \n",
    "    #move index forward 1\n",
    "    k = k + 1\n",
    "    \n",
    "print(vaderBlob)"
   ]
  },
  {
   "cell_type": "markdown",
   "id": "78d8dc6c",
   "metadata": {},
   "source": [
    "**Topic Modeling**"
   ]
  },
  {
   "cell_type": "code",
   "execution_count": 31,
   "id": "e47f1e46",
   "metadata": {},
   "outputs": [
    {
     "name": "stdout",
     "output_type": "stream",
     "text": [
      "      index                                            article          topic  \\\n",
      "0         0  musicians tackle red tape musicians groups tac...  entertainment   \n",
      "1         1  u2 desire number u2 won prestigious grammy awa...  entertainment   \n",
      "2         2  rocker doherty stage fight rock singer pete do...  entertainment   \n",
      "3         3  snicket tops box office chart film adaptation ...  entertainment   \n",
      "4         4  ocean raids box office ocean crime caper seque...  entertainment   \n",
      "...     ...                                                ...            ...   \n",
      "2220   2220  norway upholds napster ruling norwegian studen...           tech   \n",
      "2221   2221  warning windows word files writing microsoft w...           tech   \n",
      "2222   2222  fast lifts record books high speed lifts world...           tech   \n",
      "2223   2223  nintendo adds media playing ds nintendo releas...           tech   \n",
      "2224   2224  fast moving phone viruses appear security firm...           tech   \n",
      "\n",
      "        neg    neu    pos  compound  Sentiment  Subjectivity  \n",
      "0     0.129  0.719  0.151    0.6597   0.064755      0.243527  \n",
      "1     0.111  0.669  0.220    0.9896   0.103661      0.489215  \n",
      "2     0.150  0.720  0.130   -0.8481   0.066071      0.242651  \n",
      "3     0.132  0.732  0.136   -0.5423  -0.187500      0.900000  \n",
      "4     0.073  0.765  0.162    0.9217   0.124074      0.405556  \n",
      "...     ...    ...    ...       ...        ...           ...  \n",
      "2220  0.096  0.776  0.128    0.7845   0.050000      0.310185  \n",
      "2221  0.118  0.764  0.118   -0.4538  -0.056151      0.583214  \n",
      "2222  0.036  0.893  0.071    0.8519   0.143542      0.524167  \n",
      "2223  0.000  0.840  0.160    0.9665   0.033333      0.446667  \n",
      "2224  0.213  0.691  0.096   -0.9638   0.067194      0.537747  \n",
      "\n",
      "[2225 rows x 9 columns]\n",
      "Index(['index', 'article', 'topic', 'neg', 'neu', 'pos', 'compound',\n",
      "       'Sentiment', 'Subjectivity'],\n",
      "      dtype='object')\n"
     ]
    }
   ],
   "source": [
    "new_df = vaderBlob.copy()\n",
    "print(new_df)\n",
    "print(new_df.columns)"
   ]
  },
  {
   "cell_type": "code",
   "execution_count": 33,
   "id": "6a902550",
   "metadata": {},
   "outputs": [
    {
     "name": "stdout",
     "output_type": "stream",
     "text": [
      "\n",
      "\n",
      "Corpus created... \n",
      "Now moving onto coherence evaluation\n",
      "\n"
     ]
    },
    {
     "name": "stderr",
     "output_type": "stream",
     "text": [
      "100%|█████████████████████████████████████████████████████████████████████████████████| 5/5 [03:53<00:00, 46.72s/it]"
     ]
    },
    {
     "name": "stdout",
     "output_type": "stream",
     "text": [
      "range(4, 9)\n"
     ]
    },
    {
     "name": "stderr",
     "output_type": "stream",
     "text": [
      "\n"
     ]
    },
    {
     "data": {
      "image/png": "[encoded data removed]",
      "text/plain": [
       "<Figure size 640x480 with 1 Axes>"
      ]
     },
     "metadata": {},
     "output_type": "display_data"
    },
    {
     "name": "stdout",
     "output_type": "stream",
     "text": [
      "The best number of topics was 5\n",
      "\n",
      "\n",
      " Now moving on to Creating the model and topic buckets that will be sent to the xgboost model...\n",
      "\n",
      "\n",
      "\n",
      "Coherence Score:  0.6475559186216568\n",
      "\n",
      "\n",
      "Topics Found\n",
      "Topic 0:\n",
      " (0, '0.009*\"film\" + 0.007*\"best\" + 0.004*\"music\" + 0.004*\"awards\" + 0.003*\"award\" + 0.003*\"star\" + 0.002*\"band\" + 0.002*\"actor\" + 0.002*\"films\" + 0.002*\"£\"') \n",
      "\n",
      "Topic 1:\n",
      " (1, '0.007*\"people\" + 0.004*\"mobile\" + 0.004*\"technology\" + 0.003*\"users\" + 0.003*\"digital\" + 0.003*\"games\" + 0.003*\"new\" + 0.003*\"net\" + 0.003*\"software\" + 0.003*\"year\"') \n",
      "\n",
      "Topic 2:\n",
      " (2, '0.016*\"mr\" + 0.006*\"government\" + 0.006*\"labour\" + 0.005*\"election\" + 0.005*\"blair\" + 0.004*\"people\" + 0.004*\"party\" + 0.003*\"brown\" + 0.003*\"£\" + 0.003*\"minister\"') \n",
      "\n",
      "Topic 3:\n",
      " (3, '0.005*\"game\" + 0.005*\"england\" + 0.004*\"6\" + 0.003*\"win\" + 0.003*\"club\" + 0.003*\"world\" + 0.003*\"ireland\" + 0.003*\"play\" + 0.003*\"cup\" + 0.003*\"wales\"') \n",
      "\n",
      "Topic 4:\n",
      " (4, '0.005*\"company\" + 0.004*\"firm\" + 0.003*\"oil\" + 0.003*\"shares\" + 0.003*\"bank\" + 0.003*\"market\" + 0.002*\"yukos\" + 0.002*\"deal\" + 0.002*\"china\" + 0.002*\"financial\"') \n",
      "\n",
      "329 documents in topic 0\n",
      "459 documents in topic 1\n",
      "470 documents in topic 2\n",
      "478 documents in topic 3\n",
      "302 documents in topic 4\n",
      "\n",
      "Created topic 0 csv file...\n",
      "Created topic 1 csv file...\n",
      "Created topic 2 csv file...\n",
      "Created topic 3 csv file...\n",
      "Created topic 4 csv file...\n",
      "All done with the topic model\n",
      "\n",
      "\n"
     ]
    }
   ],
   "source": [
    "\n",
    "#copy the article column to a list so that we can run the topic model algorithms on it\n",
    "article = vaderBlob['article'].to_list()\n",
    "\n",
    "#make a list of lists with the words to be converted into wordIDs\n",
    "texts = create_texts(article)\n",
    "\n",
    "#print(texts[0])\n",
    "\n",
    "#creating the dictionary and corpus which is what the topic model algorithm uses to find topics\n",
    "dictionary  = corpora.Dictionary(texts)\n",
    "corpus = [dictionary.doc2bow(text) for text in texts]\n",
    "\n",
    "print(\"\\n\\nCorpus created... \\nNow moving onto coherence evaluation\\n\")\n",
    "\n",
    "\n",
    "\n",
    "\n",
    "\n",
    "########################## Coherence Evaluation to determine right number of topics ##################################\n",
    "\n",
    "\n",
    "### Topic Model Hyperparameters\n",
    "start = 4\n",
    "step = 1\n",
    "limit = 9\n",
    "chunksize = 750\n",
    "passes = 20\n",
    "iterations = 200\n",
    "eval_every = 10\n",
    "\n",
    "## module definition which iterates through all the number of topics and finds the best one\n",
    "coherence_vals = compute_coherence(dictionary=dictionary,\n",
    "                                  corpus=corpus,\n",
    "                                  texts=texts,\n",
    "                                  cohere_vers='c_v',\n",
    "                                  chunksize=chunksize,\n",
    "                                  start=start,\n",
    "                                  limit=limit,\n",
    "                                  step=step)\n",
    "\n",
    "\n",
    "x = range(start,limit,step)\n",
    "print(x)\n",
    "\n",
    "############ Creates the graphical output to show which number of topics was best\n",
    "plt.xlim(start,limit)\n",
    "plt.xticks(range(start,limit,step))\n",
    "plt.xlabel('Number of Topic')\n",
    "plt.ylabel('Computed Coherence')\n",
    "\n",
    "plt.plot(x,coherence_vals,'-')\n",
    "plt.show()\n",
    "#################\n",
    "print('The best number of topics was', coherence_vals.index(max(coherence_vals))+start)\n",
    "print('\\n\\n Now moving on to Creating the model and topic buckets that will be sent to the xgboost model...\\n\\n')\n",
    "\n",
    "\n",
    "############################ Creating topic model using best number of topics ############################\n",
    "\n",
    "NUM_topics = coherence_vals.index(max(coherence_vals)) + start\n",
    "chunksize = 750\n",
    "passes = 20\n",
    "iterations = 200\n",
    "eval_every = 10\n",
    "alpha = 0.62\n",
    "beta = 0.92\n",
    "\n",
    "\n",
    "lda_model = models.ldamodel.LdaModel(corpus = corpus,\n",
    "                                     id2word=dictionary,\n",
    "                                     num_topics=NUM_topics,\n",
    "                                     chunksize = chunksize,\n",
    "                                     iterations = iterations,\n",
    "                                     passes = passes,\n",
    "                                     eval_every = eval_every,\n",
    "                                     random_state = 3,\n",
    "                                     alpha  = alpha,\n",
    "                                     eta = beta)\n",
    "coherence_model_lda = models.coherencemodel.CoherenceModel(model = lda_model,texts = texts, dictionary=dictionary, coherence='c_v')\n",
    "coherence_lda = coherence_model_lda.get_coherence()\n",
    "print(\"\\nCoherence Score: \", coherence_lda)\n",
    "print(\"\\n\\nTopics Found\")\n",
    "\n",
    "### outputs the topics found so we can observe and validate the topic model\n",
    "for i in lda_model.print_topics(10):\n",
    "    print(\"Topic\", i[0], \"\\b:\\n\", i,\"\\n\")\n",
    "\n",
    "\n",
    "####################### Sorting the documents into buckets associated with their respective topic ####################\n",
    "\n",
    "topic_buckets = [[]]\n",
    "for j in range(1,NUM_topics):\n",
    "    topic_buckets.append([])\n",
    "    \n",
    "#print(topic_buckets)\n",
    "\n",
    "## this loops through all the documents and uses the model to see what topic it fits into\n",
    "## I'll have to tune the probabilities when it comes to the actual data-\n",
    "## set and find what values work best with the articles we accumulate\n",
    "for i in range(0,len(corpus)):\n",
    "    document_topic = list(models.ldamodel.LdaModel.get_document_topics(lda_model, \n",
    "                                                                       bow=corpus[i], \n",
    "                                                                       minimum_probability=0.6, ## Work with this to determine what value I want to use\n",
    "                                                                       minimum_phi_value = None,\n",
    "                                                                       per_word_topics=False))\n",
    "    \n",
    "    #if (i == 1):\n",
    "        #print(corpus[i])\n",
    "        #print(document_topic)\n",
    "    for topic in document_topic:\n",
    "        list_topic = list(topic)\n",
    "        list_topic.insert(0,i)\n",
    "        #print(list_topic)\n",
    "        topic_buckets[list_topic[1]].append(list_topic)\n",
    "    #print(document_topic)\n",
    "    \n",
    "for i in topic_buckets:\n",
    "    print(len(i), \"documents in topic\", topic_buckets.index(i))\n",
    "\n",
    "print()\n",
    "\n",
    "\n",
    "## Right now I am just sending the results to a csv but later on it will just be sent back to the data-\n",
    "## base or straight into the narrative curve model program\n",
    "\n",
    "'''old_df = pd.read_csv(\"/home/jnieberding/LocalCapstone/env/training_tfidf.csv\")'''\n",
    "old_df = vaderBlob.copy()\n",
    "\n",
    "for i in topic_buckets:\n",
    "    topic_df = pd.DataFrame(columns = [\"index\",'topic', \"article\", \"neg\", \"neu\", \"pos\", \"compound\", \"Sentiment\", \"Subjectivity\", \"Topic Prob\"])\n",
    "    \n",
    "    for j in i:\n",
    "        index = old_df[\"index\"].iloc[j[0]]\n",
    "        article = old_df[\"article\"].iloc[j[0]]\n",
    "        neg = old_df[\"neg\"].iloc[j[0]]\n",
    "        topic = old_df['topic'].iloc[j[0]]\n",
    "        neu = old_df[\"neu\"].iloc[j[0]]\n",
    "        pos = old_df[\"pos\"].iloc[j[0]]\n",
    "        compound = old_df[\"compound\"].iloc[j[0]]\n",
    "        Sentiment = old_df[\"Sentiment\"].iloc[j[0]]\n",
    "        Subjectivity = old_df[\"Subjectivity\"].iloc[j[0]]\n",
    "        '''date = old_df[\"date\"].iloc[j[0]]'''\n",
    "        topic_prob = j[2]\n",
    "        #print(topic_df.columns)\n",
    "        row = pd.Series([index, topic, article, neg, neu, pos, compound, Sentiment, Subjectivity, topic_prob], index= topic_df.columns)\n",
    "        #print(row)\n",
    "        \n",
    "        pd.concat([topic_df, row], axis = 0)\n",
    "    \n",
    "    #print(topic_df)\n",
    "    path = os.getcwd()\n",
    "    os.chdir(os.path.join('C:\\\\Users\\\\jimni\\\\LocalCapstone\\\\'))\n",
    "    model_dir = 'demo_topic_csv'\n",
    "    if not os.path.isdir(model_dir):\n",
    "        os.mkdir(model_dir)\n",
    "\n",
    "    filename = 'C:\\\\Users\\\\jimni\\\\LocalCapstone\\\\demo_topic_csv\\\\topic'+str(i[0][1])+'.csv'\n",
    "    topic_df.to_csv(filename)\n",
    "\n",
    "    print(\"Created topic\", i[0][1], \"csv file...\")\n",
    "\n",
    "print(\"All done with the topic model\\n\\n\")\n",
    "\n"
   ]
  },
  {
   "cell_type": "markdown",
   "id": "1f22fad9",
   "metadata": {},
   "source": [
    "**Narrative Curve Model Training**"
   ]
  },
  {
   "cell_type": "code",
   "execution_count": 5,
   "id": "8a919185",
   "metadata": {},
   "outputs": [
    {
     "data": {
      "image/png": "[encoded data removed]",
      "text/plain": [
       "<Figure size 640x480 with 1 Axes>"
      ]
     },
     "metadata": {},
     "output_type": "display_data"
    },
    {
     "name": "stdout",
     "output_type": "stream",
     "text": [
      "2017-03-28 00:00:00\n"
     ]
    },
    {
     "data": {
      "image/png": "[encoded data removed]",
      "text/plain": [
       "<Figure size 640x480 with 1 Axes>"
      ]
     },
     "metadata": {},
     "output_type": "display_data"
    },
    {
     "data": {
      "image/png": "[encoded data removed]",
      "text/plain": [
       "<Figure size 3000x3000 with 1 Axes>"
      ]
     },
     "metadata": {},
     "output_type": "display_data"
    },
    {
     "name": "stdout",
     "output_type": "stream",
     "text": [
      "TESTING SCORES\n",
      "Mean Absolute Error: 0.016750196939633397\n",
      "Mean Squared Error: 0.000737764806834891\n",
      "Root Mean Squared Error: 0.027161826279447614\n",
      "R2 Score: 0.9191552430391913\n",
      "Adjusted R2 Score: 0.9101724922657681\n",
      "\n",
      "\n",
      "VALIDATION SCORES\n",
      "Mean Absolute Error: 0.015895197147519365\n",
      "Mean Squared Error: 0.0006557182528436617\n",
      "Root Mean Squared Error: 0.025606996169868532\n",
      "R2 Score: 0.7457062246184568\n",
      "Adjusted R2 Score: 0.7174513606871742 \n",
      "\n",
      "\n",
      "Feature Vector with all Features\n",
      "\n",
      "Prediction of the Testing Set\n"
     ]
    },
    {
     "name": "stderr",
     "output_type": "stream",
     "text": [
      "C:\\Users\\jimni\\LocalCapstone\\Lib\\site-packages\\sklearn\\metrics\\_regression.py:483: FutureWarning:\n",
      "\n",
      "'squared' is deprecated in version 1.4 and will be removed in 1.6. To calculate the root mean squared error, use the function'root_mean_squared_error'.\n",
      "\n",
      "C:\\Users\\jimni\\LocalCapstone\\Lib\\site-packages\\sklearn\\metrics\\_regression.py:483: FutureWarning:\n",
      "\n",
      "'squared' is deprecated in version 1.4 and will be removed in 1.6. To calculate the root mean squared error, use the function'root_mean_squared_error'.\n",
      "\n",
      "C:\\Users\\jimni\\LocalCapstone\\Lib\\site-packages\\plotly\\express\\_core.py:2065: FutureWarning:\n",
      "\n",
      "When grouping with a length-1 list-like, you will need to pass a length-1 tuple to get_group in a future version of pandas. Pass `(name,)` instead of `name` to silence this warning.\n",
      "\n"
     ]
    },
    {
     "data": {
      "application/vnd.plotly.v1+json": {
       "config": {
        "plotlyServerURL": "https://plot.ly"
       },
       "data": [
        {
         "hovertemplate": "type=Sentiment prediction<br>date=%{x}<br>sent=%{y}<extra></extra>",
         "legendgroup": "Sentiment prediction",
         "line": {
          "color": "#636efa",
          "dash": "solid"
         },
         "marker": {
          "symbol": "circle"
         },
         "mode": "lines",
         "name": "Sentiment prediction",
         "orientation": "v",
         "showlegend": true,
         "type": "scatter",
         "x": [
          "2015-12-22T00:00:00",
          "2015-12-27T00:00:00",
          "2015-12-31T00:00:00",
          "2016-01-02T00:00:00",
          "2016-01-05T00:00:00",
          "2016-01-11T00:00:00",
          "2016-01-27T00:00:00",
          "2016-02-13T00:00:00",
          "2016-02-15T00:00:00",
          "2016-02-19T00:00:00",
          "2016-03-01T00:00:00",
          "2016-03-06T00:00:00",
          "2016-03-08T00:00:00",
          "2016-03-20T00:00:00",
          "2016-03-26T00:00:00",
          "2016-03-30T00:00:00",
          "2016-04-01T00:00:00",
          "2016-04-17T00:00:00",
          "2016-04-21T00:00:00",
          "2016-04-23T00:00:00",
          "2016-05-03T00:00:00",
          "2016-05-24T00:00:00",
          "2016-06-02T00:00:00",
          "2016-06-08T00:00:00",
          "2016-06-09T00:00:00",
          "2016-06-13T00:00:00",
          "2016-06-17T00:00:00",
          "2016-06-24T00:00:00",
          "2016-06-26T00:00:00",
          "2016-07-04T00:00:00",
          "2016-07-13T00:00:00",
          "2016-07-16T00:00:00",
          "2016-07-18T00:00:00",
          "2016-07-27T00:00:00",
          "2016-07-28T00:00:00",
          "2016-08-01T00:00:00",
          "2016-08-02T00:00:00",
          "2016-08-06T00:00:00",
          "2016-08-07T00:00:00",
          "2016-08-16T00:00:00",
          "2016-08-27T00:00:00",
          "2016-08-29T00:00:00",
          "2016-09-10T00:00:00",
          "2016-09-17T00:00:00",
          "2016-10-18T00:00:00",
          "2016-10-22T00:00:00",
          "2016-10-24T00:00:00",
          "2016-10-31T00:00:00",
          "2016-11-02T00:00:00",
          "2016-11-21T00:00:00",
          "2016-11-27T00:00:00",
          "2016-11-28T00:00:00",
          "2016-11-30T00:00:00",
          "2016-12-02T00:00:00",
          "2016-12-05T00:00:00",
          "2016-12-09T00:00:00",
          "2016-12-17T00:00:00",
          "2016-12-19T00:00:00",
          "2017-01-01T00:00:00",
          "2017-01-16T00:00:00",
          "2017-01-26T00:00:00",
          "2017-02-03T00:00:00",
          "2017-02-08T00:00:00",
          "2017-02-12T00:00:00",
          "2017-02-18T00:00:00",
          "2017-02-20T00:00:00",
          "2017-02-26T00:00:00",
          "2017-02-27T00:00:00",
          "2017-03-11T00:00:00",
          "2017-03-18T00:00:00"
         ],
         "xaxis": "x",
         "y": [
          0.22236588597297668,
          0.17940013110637665,
          0.16852633655071259,
          0.1553579419851303,
          0.13943041861057281,
          0.12243271619081497,
          0.09514335542917252,
          0.06333117932081223,
          0.06184384971857071,
          0.04866469278931618,
          0.0449582003057003,
          0.04351530969142914,
          0.03304127976298332,
          0.0019849464297294617,
          0.018885506317019463,
          0.013014326803386211,
          0.011135133914649487,
          -0.01595773734152317,
          -0.012827802449464798,
          -0.013302532956004143,
          -0.04182722046971321,
          -0.050236862152814865,
          -0.08820472657680511,
          -0.1607913374900818,
          -0.23157815635204315,
          -0.11817927658557892,
          -0.1286119520664215,
          -0.08967846632003784,
          -0.10430766642093658,
          -0.08865054696798325,
          -0.06539969146251678,
          -0.05727384611964226,
          -0.0590219646692276,
          -0.04422987997531891,
          -0.04832056909799576,
          -0.026304814964532852,
          -0.011392606422305107,
          -0.02755725383758545,
          -0.015094072557985783,
          -0.01938716322183609,
          0.0036033131182193756,
          0.0011958148097619414,
          0.004437623545527458,
          0.029111307114362717,
          0.07150046527385712,
          0.06979851424694061,
          0.06483154743909836,
          0.06572870165109634,
          0.09088879078626633,
          0.11348248273134232,
          0.11259909719228745,
          0.1107586920261383,
          0.08806029707193375,
          0.13635443150997162,
          0.1174229085445404,
          0.252197802066803,
          0.19977089762687683,
          0.2084302306175232,
          0.14076538383960724,
          0.07714822888374329,
          0.08702373504638672,
          0.07549422979354858,
          0.07768695056438446,
          0.071488156914711,
          0.05937792733311653,
          0.052620481699705124,
          0.04582436382770538,
          0.04293360188603401,
          0.029511256143450737,
          0.013448129408061504
         ],
         "yaxis": "y"
        },
        {
         "hovertemplate": "type=Sentiment<br>date=%{x}<br>sent=%{y}<extra></extra>",
         "legendgroup": "Sentiment",
         "line": {
          "color": "#EF553B",
          "dash": "solid"
         },
         "marker": {
          "symbol": "circle"
         },
         "mode": "lines",
         "name": "Sentiment",
         "orientation": "v",
         "showlegend": true,
         "type": "scatter",
         "x": [
          "2015-12-22T00:00:00",
          "2015-12-27T00:00:00",
          "2015-12-31T00:00:00",
          "2016-01-02T00:00:00",
          "2016-01-05T00:00:00",
          "2016-01-11T00:00:00",
          "2016-01-27T00:00:00",
          "2016-02-13T00:00:00",
          "2016-02-15T00:00:00",
          "2016-02-19T00:00:00",
          "2016-03-01T00:00:00",
          "2016-03-06T00:00:00",
          "2016-03-08T00:00:00",
          "2016-03-20T00:00:00",
          "2016-03-26T00:00:00",
          "2016-03-30T00:00:00",
          "2016-04-01T00:00:00",
          "2016-04-17T00:00:00",
          "2016-04-21T00:00:00",
          "2016-04-23T00:00:00",
          "2016-05-03T00:00:00",
          "2016-05-24T00:00:00",
          "2016-06-02T00:00:00",
          "2016-06-08T00:00:00",
          "2016-06-09T00:00:00",
          "2016-06-13T00:00:00",
          "2016-06-17T00:00:00",
          "2016-06-24T00:00:00",
          "2016-06-26T00:00:00",
          "2016-07-04T00:00:00",
          "2016-07-13T00:00:00",
          "2016-07-16T00:00:00",
          "2016-07-18T00:00:00",
          "2016-07-27T00:00:00",
          "2016-07-28T00:00:00",
          "2016-08-01T00:00:00",
          "2016-08-02T00:00:00",
          "2016-08-06T00:00:00",
          "2016-08-07T00:00:00",
          "2016-08-16T00:00:00",
          "2016-08-27T00:00:00",
          "2016-08-29T00:00:00",
          "2016-09-10T00:00:00",
          "2016-09-17T00:00:00",
          "2016-10-18T00:00:00",
          "2016-10-22T00:00:00",
          "2016-10-24T00:00:00",
          "2016-10-31T00:00:00",
          "2016-11-02T00:00:00",
          "2016-11-21T00:00:00",
          "2016-11-27T00:00:00",
          "2016-11-28T00:00:00",
          "2016-11-30T00:00:00",
          "2016-12-02T00:00:00",
          "2016-12-05T00:00:00",
          "2016-12-09T00:00:00",
          "2016-12-17T00:00:00",
          "2016-12-19T00:00:00",
          "2017-01-01T00:00:00",
          "2017-01-16T00:00:00",
          "2017-01-26T00:00:00",
          "2017-02-03T00:00:00",
          "2017-02-08T00:00:00",
          "2017-02-12T00:00:00",
          "2017-02-18T00:00:00",
          "2017-02-20T00:00:00",
          "2017-02-26T00:00:00",
          "2017-02-27T00:00:00",
          "2017-03-11T00:00:00",
          "2017-03-18T00:00:00"
         ],
         "xaxis": "x",
         "y": [
          0.310449735,
          0.20639881,
          0.158823529,
          0.136728395,
          0.144264069,
          0.133333333,
          0.098739496,
          0.067063492,
          0.056709957,
          0.064348371,
          0.051282051,
          0.036904762,
          0.040410053,
          0.014264928,
          0.021590909,
          0.000747863,
          4.63e-18,
          -0.011111111,
          -0.017083333,
          -0.018055556,
          -0.036775362,
          -0.073688272,
          -0.084933333,
          -0.093452381,
          -0.127272727,
          -0.1,
          -0.147435897,
          -0.1,
          -0.087698413,
          -0.1375,
          -0.063235294,
          -0.058220721,
          -0.069,
          -0.05,
          -0.054441392,
          -0.02202381,
          -0.030248918,
          -0.034038801,
          -0.036666667,
          -0.016203704,
          -0.006923077,
          -0.002651515,
          0.020833333,
          0.018767696,
          0.06,
          0.069389339,
          0.057486631,
          0.077067669,
          0.073214286,
          0.11508547,
          0.154395604,
          0.172243108,
          0.176584022,
          0.179791667,
          0.161025641,
          0.246693122,
          0.184920635,
          0.172902098,
          0.149206349,
          0.103180272,
          0.09,
          0.077051282,
          0.075,
          0.05327306,
          0.051261905,
          0.059072682,
          0.0403125,
          0.045098039,
          0.029166667,
          0.022354497
         ],
         "yaxis": "y"
        }
       ],
       "layout": {
        "autosize": true,
        "legend": {
         "title": {
          "text": "type"
         },
         "tracegroupgap": 0
        },
        "margin": {
         "t": 60
        },
        "template": {
         "data": {
          "bar": [
           {
            "error_x": {
             "color": "#2a3f5f"
            },
            "error_y": {
             "color": "#2a3f5f"
            },
            "marker": {
             "line": {
              "color": "#E5ECF6",
              "width": 0.5
             },
             "pattern": {
              "fillmode": "overlay",
              "size": 10,
              "solidity": 0.2
             }
            },
            "type": "bar"
           }
          ],
          "barpolar": [
           {
            "marker": {
             "line": {
              "color": "#E5ECF6",
              "width": 0.5
             },
             "pattern": {
              "fillmode": "overlay",
              "size": 10,
              "solidity": 0.2
             }
            },
            "type": "barpolar"
           }
          ],
          "carpet": [
           {
            "aaxis": {
             "endlinecolor": "#2a3f5f",
             "gridcolor": "white",
             "linecolor": "white",
             "minorgridcolor": "white",
             "startlinecolor": "#2a3f5f"
            },
            "baxis": {
             "endlinecolor": "#2a3f5f",
             "gridcolor": "white",
             "linecolor": "white",
             "minorgridcolor": "white",
             "startlinecolor": "#2a3f5f"
            },
            "type": "carpet"
           }
          ],
          "choropleth": [
           {
            "colorbar": {
             "outlinewidth": 0,
             "ticks": ""
            },
            "type": "choropleth"
           }
          ],
          "contour": [
           {
            "colorbar": {
             "outlinewidth": 0,
             "ticks": ""
            },
            "colorscale": [
             [
              0,
              "#0d0887"
             ],
             [
              0.1111111111111111,
              "#46039f"
             ],
             [
              0.2222222222222222,
              "#7201a8"
             ],
             [
              0.3333333333333333,
              "#9c179e"
             ],
             [
              0.4444444444444444,
              "#bd3786"
             ],
             [
              0.5555555555555556,
              "#d8576b"
             ],
             [
              0.6666666666666666,
              "#ed7953"
             ],
             [
              0.7777777777777778,
              "#fb9f3a"
             ],
             [
              0.8888888888888888,
              "#fdca26"
             ],
             [
              1,
              "#f0f921"
             ]
            ],
            "type": "contour"
           }
          ],
          "contourcarpet": [
           {
            "colorbar": {
             "outlinewidth": 0,
             "ticks": ""
            },
            "type": "contourcarpet"
           }
          ],
          "heatmap": [
           {
            "colorbar": {
             "outlinewidth": 0,
             "ticks": ""
            },
            "colorscale": [
             [
              0,
              "#0d0887"
             ],
             [
              0.1111111111111111,
              "#46039f"
             ],
             [
              0.2222222222222222,
              "#7201a8"
             ],
             [
              0.3333333333333333,
              "#9c179e"
             ],
             [
              0.4444444444444444,
              "#bd3786"
             ],
             [
              0.5555555555555556,
              "#d8576b"
             ],
             [
              0.6666666666666666,
              "#ed7953"
             ],
             [
              0.7777777777777778,
              "#fb9f3a"
             ],
             [
              0.8888888888888888,
              "#fdca26"
             ],
             [
              1,
              "#f0f921"
             ]
            ],
            "type": "heatmap"
           }
          ],
          "heatmapgl": [
           {
            "colorbar": {
             "outlinewidth": 0,
             "ticks": ""
            },
            "colorscale": [
             [
              0,
              "#0d0887"
             ],
             [
              0.1111111111111111,
              "#46039f"
             ],
             [
              0.2222222222222222,
              "#7201a8"
             ],
             [
              0.3333333333333333,
              "#9c179e"
             ],
             [
              0.4444444444444444,
              "#bd3786"
             ],
             [
              0.5555555555555556,
              "#d8576b"
             ],
             [
              0.6666666666666666,
              "#ed7953"
             ],
             [
              0.7777777777777778,
              "#fb9f3a"
             ],
             [
              0.8888888888888888,
              "#fdca26"
             ],
             [
              1,
              "#f0f921"
             ]
            ],
            "type": "heatmapgl"
           }
          ],
          "histogram": [
           {
            "marker": {
             "pattern": {
              "fillmode": "overlay",
              "size": 10,
              "solidity": 0.2
             }
            },
            "type": "histogram"
           }
          ],
          "histogram2d": [
           {
            "colorbar": {
             "outlinewidth": 0,
             "ticks": ""
            },
            "colorscale": [
             [
              0,
              "#0d0887"
             ],
             [
              0.1111111111111111,
              "#46039f"
             ],
             [
              0.2222222222222222,
              "#7201a8"
             ],
             [
              0.3333333333333333,
              "#9c179e"
             ],
             [
              0.4444444444444444,
              "#bd3786"
             ],
             [
              0.5555555555555556,
              "#d8576b"
             ],
             [
              0.6666666666666666,
              "#ed7953"
             ],
             [
              0.7777777777777778,
              "#fb9f3a"
             ],
             [
              0.8888888888888888,
              "#fdca26"
             ],
             [
              1,
              "#f0f921"
             ]
            ],
            "type": "histogram2d"
           }
          ],
          "histogram2dcontour": [
           {
            "colorbar": {
             "outlinewidth": 0,
             "ticks": ""
            },
            "colorscale": [
             [
              0,
              "#0d0887"
             ],
             [
              0.1111111111111111,
              "#46039f"
             ],
             [
              0.2222222222222222,
              "#7201a8"
             ],
             [
              0.3333333333333333,
              "#9c179e"
             ],
             [
              0.4444444444444444,
              "#bd3786"
             ],
             [
              0.5555555555555556,
              "#d8576b"
             ],
             [
              0.6666666666666666,
              "#ed7953"
             ],
             [
              0.7777777777777778,
              "#fb9f3a"
             ],
             [
              0.8888888888888888,
              "#fdca26"
             ],
             [
              1,
              "#f0f921"
             ]
            ],
            "type": "histogram2dcontour"
           }
          ],
          "mesh3d": [
           {
            "colorbar": {
             "outlinewidth": 0,
             "ticks": ""
            },
            "type": "mesh3d"
           }
          ],
          "parcoords": [
           {
            "line": {
             "colorbar": {
              "outlinewidth": 0,
              "ticks": ""
             }
            },
            "type": "parcoords"
           }
          ],
          "pie": [
           {
            "automargin": true,
            "type": "pie"
           }
          ],
          "scatter": [
           {
            "fillpattern": {
             "fillmode": "overlay",
             "size": 10,
             "solidity": 0.2
            },
            "type": "scatter"
           }
          ],
          "scatter3d": [
           {
            "line": {
             "colorbar": {
              "outlinewidth": 0,
              "ticks": ""
             }
            },
            "marker": {
             "colorbar": {
              "outlinewidth": 0,
              "ticks": ""
             }
            },
            "type": "scatter3d"
           }
          ],
          "scattercarpet": [
           {
            "marker": {
             "colorbar": {
              "outlinewidth": 0,
              "ticks": ""
             }
            },
            "type": "scattercarpet"
           }
          ],
          "scattergeo": [
           {
            "marker": {
             "colorbar": {
              "outlinewidth": 0,
              "ticks": ""
             }
            },
            "type": "scattergeo"
           }
          ],
          "scattergl": [
           {
            "marker": {
             "colorbar": {
              "outlinewidth": 0,
              "ticks": ""
             }
            },
            "type": "scattergl"
           }
          ],
          "scattermapbox": [
           {
            "marker": {
             "colorbar": {
              "outlinewidth": 0,
              "ticks": ""
             }
            },
            "type": "scattermapbox"
           }
          ],
          "scatterpolar": [
           {
            "marker": {
             "colorbar": {
              "outlinewidth": 0,
              "ticks": ""
             }
            },
            "type": "scatterpolar"
           }
          ],
          "scatterpolargl": [
           {
            "marker": {
             "colorbar": {
              "outlinewidth": 0,
              "ticks": ""
             }
            },
            "type": "scatterpolargl"
           }
          ],
          "scatterternary": [
           {
            "marker": {
             "colorbar": {
              "outlinewidth": 0,
              "ticks": ""
             }
            },
            "type": "scatterternary"
           }
          ],
          "surface": [
           {
            "colorbar": {
             "outlinewidth": 0,
             "ticks": ""
            },
            "colorscale": [
             [
              0,
              "#0d0887"
             ],
             [
              0.1111111111111111,
              "#46039f"
             ],
             [
              0.2222222222222222,
              "#7201a8"
             ],
             [
              0.3333333333333333,
              "#9c179e"
             ],
             [
              0.4444444444444444,
              "#bd3786"
             ],
             [
              0.5555555555555556,
              "#d8576b"
             ],
             [
              0.6666666666666666,
              "#ed7953"
             ],
             [
              0.7777777777777778,
              "#fb9f3a"
             ],
             [
              0.8888888888888888,
              "#fdca26"
             ],
             [
              1,
              "#f0f921"
             ]
            ],
            "type": "surface"
           }
          ],
          "table": [
           {
            "cells": {
             "fill": {
              "color": "#EBF0F8"
             },
             "line": {
              "color": "white"
             }
            },
            "header": {
             "fill": {
              "color": "#C8D4E3"
             },
             "line": {
              "color": "white"
             }
            },
            "type": "table"
           }
          ]
         },
         "layout": {
          "annotationdefaults": {
           "arrowcolor": "#2a3f5f",
           "arrowhead": 0,
           "arrowwidth": 1
          },
          "autotypenumbers": "strict",
          "coloraxis": {
           "colorbar": {
            "outlinewidth": 0,
            "ticks": ""
           }
          },
          "colorscale": {
           "diverging": [
            [
             0,
             "#8e0152"
            ],
            [
             0.1,
             "#c51b7d"
            ],
            [
             0.2,
             "#de77ae"
            ],
            [
             0.3,
             "#f1b6da"
            ],
            [
             0.4,
             "#fde0ef"
            ],
            [
             0.5,
             "#f7f7f7"
            ],
            [
             0.6,
             "#e6f5d0"
            ],
            [
             0.7,
             "#b8e186"
            ],
            [
             0.8,
             "#7fbc41"
            ],
            [
             0.9,
             "#4d9221"
            ],
            [
             1,
             "#276419"
            ]
           ],
           "sequential": [
            [
             0,
             "#0d0887"
            ],
            [
             0.1111111111111111,
             "#46039f"
            ],
            [
             0.2222222222222222,
             "#7201a8"
            ],
            [
             0.3333333333333333,
             "#9c179e"
            ],
            [
             0.4444444444444444,
             "#bd3786"
            ],
            [
             0.5555555555555556,
             "#d8576b"
            ],
            [
             0.6666666666666666,
             "#ed7953"
            ],
            [
             0.7777777777777778,
             "#fb9f3a"
            ],
            [
             0.8888888888888888,
             "#fdca26"
            ],
            [
             1,
             "#f0f921"
            ]
           ],
           "sequentialminus": [
            [
             0,
             "#0d0887"
            ],
            [
             0.1111111111111111,
             "#46039f"
            ],
            [
             0.2222222222222222,
             "#7201a8"
            ],
            [
             0.3333333333333333,
             "#9c179e"
            ],
            [
             0.4444444444444444,
             "#bd3786"
            ],
            [
             0.5555555555555556,
             "#d8576b"
            ],
            [
             0.6666666666666666,
             "#ed7953"
            ],
            [
             0.7777777777777778,
             "#fb9f3a"
            ],
            [
             0.8888888888888888,
             "#fdca26"
            ],
            [
             1,
             "#f0f921"
            ]
           ]
          },
          "colorway": [
           "#636efa",
           "#EF553B",
           "#00cc96",
           "#ab63fa",
           "#FFA15A",
           "#19d3f3",
           "#FF6692",
           "#B6E880",
           "#FF97FF",
           "#FECB52"
          ],
          "font": {
           "color": "#2a3f5f"
          },
          "geo": {
           "bgcolor": "white",
           "lakecolor": "white",
           "landcolor": "#E5ECF6",
           "showlakes": true,
           "showland": true,
           "subunitcolor": "white"
          },
          "hoverlabel": {
           "align": "left"
          },
          "hovermode": "closest",
          "mapbox": {
           "style": "light"
          },
          "paper_bgcolor": "white",
          "plot_bgcolor": "#E5ECF6",
          "polar": {
           "angularaxis": {
            "gridcolor": "white",
            "linecolor": "white",
            "ticks": ""
           },
           "bgcolor": "#E5ECF6",
           "radialaxis": {
            "gridcolor": "white",
            "linecolor": "white",
            "ticks": ""
           }
          },
          "scene": {
           "xaxis": {
            "backgroundcolor": "#E5ECF6",
            "gridcolor": "white",
            "gridwidth": 2,
            "linecolor": "white",
            "showbackground": true,
            "ticks": "",
            "zerolinecolor": "white"
           },
           "yaxis": {
            "backgroundcolor": "#E5ECF6",
            "gridcolor": "white",
            "gridwidth": 2,
            "linecolor": "white",
            "showbackground": true,
            "ticks": "",
            "zerolinecolor": "white"
           },
           "zaxis": {
            "backgroundcolor": "#E5ECF6",
            "gridcolor": "white",
            "gridwidth": 2,
            "linecolor": "white",
            "showbackground": true,
            "ticks": "",
            "zerolinecolor": "white"
           }
          },
          "shapedefaults": {
           "line": {
            "color": "#2a3f5f"
           }
          },
          "ternary": {
           "aaxis": {
            "gridcolor": "white",
            "linecolor": "white",
            "ticks": ""
           },
           "baxis": {
            "gridcolor": "white",
            "linecolor": "white",
            "ticks": ""
           },
           "bgcolor": "#E5ECF6",
           "caxis": {
            "gridcolor": "white",
            "linecolor": "white",
            "ticks": ""
           }
          },
          "title": {
           "x": 0.05
          },
          "xaxis": {
           "automargin": true,
           "gridcolor": "white",
           "linecolor": "white",
           "ticks": "",
           "title": {
            "standoff": 15
           },
           "zerolinecolor": "white",
           "zerolinewidth": 2
          },
          "yaxis": {
           "automargin": true,
           "gridcolor": "white",
           "linecolor": "white",
           "ticks": "",
           "title": {
            "standoff": 15
           },
           "zerolinecolor": "white",
           "zerolinewidth": 2
          }
         }
        },
        "xaxis": {
         "anchor": "y",
         "autorange": true,
         "domain": [
          0,
          1
         ],
         "range": [
          "2015-12-22",
          "2017-03-18"
         ],
         "title": {
          "text": "date"
         },
         "type": "date"
        },
        "yaxis": {
         "anchor": "x",
         "autorange": true,
         "domain": [
          0,
          1
         ],
         "range": [
          -0.26169081698271224,
          0.34056239563066903
         ],
         "title": {
          "text": "sent"
         },
         "type": "linear"
        }
       }
      },
      "image/png": "[encoded data removed]",
      "text/html": [
       "<div>                            <div id=\"c919cba5-0016-4fab-849a-8617c957e4f7\" class=\"plotly-graph-div\" style=\"height:525px; width:100%;\"></div>            <script type=\"text/javascript\">                require([\"plotly\"], function(Plotly) {                    window.PLOTLYENV=window.PLOTLYENV || {};                                    if (document.getElementById(\"c919cba5-0016-4fab-849a-8617c957e4f7\")) {                    Plotly.newPlot(                        \"c919cba5-0016-4fab-849a-8617c957e4f7\",                        [{\"hovertemplate\":\"type=Sentiment prediction\\u003cbr\\u003edate=%{x}\\u003cbr\\u003esent=%{y}\\u003cextra\\u003e\\u003c\\u002fextra\\u003e\",\"legendgroup\":\"Sentiment prediction\",\"line\":{\"color\":\"#636efa\",\"dash\":\"solid\"},\"marker\":{\"symbol\":\"circle\"},\"mode\":\"lines\",\"name\":\"Sentiment prediction\",\"orientation\":\"v\",\"showlegend\":true,\"x\":[\"2015-12-22T00:00:00\",\"2015-12-27T00:00:00\",\"2015-12-31T00:00:00\",\"2016-01-02T00:00:00\",\"2016-01-05T00:00:00\",\"2016-01-11T00:00:00\",\"2016-01-27T00:00:00\",\"2016-02-13T00:00:00\",\"2016-02-15T00:00:00\",\"2016-02-19T00:00:00\",\"2016-03-01T00:00:00\",\"2016-03-06T00:00:00\",\"2016-03-08T00:00:00\",\"2016-03-20T00:00:00\",\"2016-03-26T00:00:00\",\"2016-03-30T00:00:00\",\"2016-04-01T00:00:00\",\"2016-04-17T00:00:00\",\"2016-04-21T00:00:00\",\"2016-04-23T00:00:00\",\"2016-05-03T00:00:00\",\"2016-05-24T00:00:00\",\"2016-06-02T00:00:00\",\"2016-06-08T00:00:00\",\"2016-06-09T00:00:00\",\"2016-06-13T00:00:00\",\"2016-06-17T00:00:00\",\"2016-06-24T00:00:00\",\"2016-06-26T00:00:00\",\"2016-07-04T00:00:00\",\"2016-07-13T00:00:00\",\"2016-07-16T00:00:00\",\"2016-07-18T00:00:00\",\"2016-07-27T00:00:00\",\"2016-07-28T00:00:00\",\"2016-08-01T00:00:00\",\"2016-08-02T00:00:00\",\"2016-08-06T00:00:00\",\"2016-08-07T00:00:00\",\"2016-08-16T00:00:00\",\"2016-08-27T00:00:00\",\"2016-08-29T00:00:00\",\"2016-09-10T00:00:00\",\"2016-09-17T00:00:00\",\"2016-10-18T00:00:00\",\"2016-10-22T00:00:00\",\"2016-10-24T00:00:00\",\"2016-10-31T00:00:00\",\"2016-11-02T00:00:00\",\"2016-11-21T00:00:00\",\"2016-11-27T00:00:00\",\"2016-11-28T00:00:00\",\"2016-11-30T00:00:00\",\"2016-12-02T00:00:00\",\"2016-12-05T00:00:00\",\"2016-12-09T00:00:00\",\"2016-12-17T00:00:00\",\"2016-12-19T00:00:00\",\"2017-01-01T00:00:00\",\"2017-01-16T00:00:00\",\"2017-01-26T00:00:00\",\"2017-02-03T00:00:00\",\"2017-02-08T00:00:00\",\"2017-02-12T00:00:00\",\"2017-02-18T00:00:00\",\"2017-02-20T00:00:00\",\"2017-02-26T00:00:00\",\"2017-02-27T00:00:00\",\"2017-03-11T00:00:00\",\"2017-03-18T00:00:00\"],\"xaxis\":\"x\",\"y\":[0.22236588597297668,0.17940013110637665,0.16852633655071259,0.1553579419851303,0.13943041861057281,0.12243271619081497,0.09514335542917252,0.06333117932081223,0.06184384971857071,0.04866469278931618,0.0449582003057003,0.04351530969142914,0.03304127976298332,0.0019849464297294617,0.018885506317019463,0.013014326803386211,0.011135133914649487,-0.01595773734152317,-0.012827802449464798,-0.013302532956004143,-0.04182722046971321,-0.050236862152814865,-0.08820472657680511,-0.1607913374900818,-0.23157815635204315,-0.11817927658557892,-0.1286119520664215,-0.08967846632003784,-0.10430766642093658,-0.08865054696798325,-0.06539969146251678,-0.05727384611964226,-0.0590219646692276,-0.04422987997531891,-0.04832056909799576,-0.026304814964532852,-0.011392606422305107,-0.02755725383758545,-0.015094072557985783,-0.01938716322183609,0.0036033131182193756,0.0011958148097619414,0.004437623545527458,0.029111307114362717,0.07150046527385712,0.06979851424694061,0.06483154743909836,0.06572870165109634,0.09088879078626633,0.11348248273134232,0.11259909719228745,0.1107586920261383,0.08806029707193375,0.13635443150997162,0.1174229085445404,0.252197802066803,0.19977089762687683,0.2084302306175232,0.14076538383960724,0.07714822888374329,0.08702373504638672,0.07549422979354858,0.07768695056438446,0.071488156914711,0.05937792733311653,0.052620481699705124,0.04582436382770538,0.04293360188603401,0.029511256143450737,0.013448129408061504],\"yaxis\":\"y\",\"type\":\"scatter\"},{\"hovertemplate\":\"type=Sentiment\\u003cbr\\u003edate=%{x}\\u003cbr\\u003esent=%{y}\\u003cextra\\u003e\\u003c\\u002fextra\\u003e\",\"legendgroup\":\"Sentiment\",\"line\":{\"color\":\"#EF553B\",\"dash\":\"solid\"},\"marker\":{\"symbol\":\"circle\"},\"mode\":\"lines\",\"name\":\"Sentiment\",\"orientation\":\"v\",\"showlegend\":true,\"x\":[\"2015-12-22T00:00:00\",\"2015-12-27T00:00:00\",\"2015-12-31T00:00:00\",\"2016-01-02T00:00:00\",\"2016-01-05T00:00:00\",\"2016-01-11T00:00:00\",\"2016-01-27T00:00:00\",\"2016-02-13T00:00:00\",\"2016-02-15T00:00:00\",\"2016-02-19T00:00:00\",\"2016-03-01T00:00:00\",\"2016-03-06T00:00:00\",\"2016-03-08T00:00:00\",\"2016-03-20T00:00:00\",\"2016-03-26T00:00:00\",\"2016-03-30T00:00:00\",\"2016-04-01T00:00:00\",\"2016-04-17T00:00:00\",\"2016-04-21T00:00:00\",\"2016-04-23T00:00:00\",\"2016-05-03T00:00:00\",\"2016-05-24T00:00:00\",\"2016-06-02T00:00:00\",\"2016-06-08T00:00:00\",\"2016-06-09T00:00:00\",\"2016-06-13T00:00:00\",\"2016-06-17T00:00:00\",\"2016-06-24T00:00:00\",\"2016-06-26T00:00:00\",\"2016-07-04T00:00:00\",\"2016-07-13T00:00:00\",\"2016-07-16T00:00:00\",\"2016-07-18T00:00:00\",\"2016-07-27T00:00:00\",\"2016-07-28T00:00:00\",\"2016-08-01T00:00:00\",\"2016-08-02T00:00:00\",\"2016-08-06T00:00:00\",\"2016-08-07T00:00:00\",\"2016-08-16T00:00:00\",\"2016-08-27T00:00:00\",\"2016-08-29T00:00:00\",\"2016-09-10T00:00:00\",\"2016-09-17T00:00:00\",\"2016-10-18T00:00:00\",\"2016-10-22T00:00:00\",\"2016-10-24T00:00:00\",\"2016-10-31T00:00:00\",\"2016-11-02T00:00:00\",\"2016-11-21T00:00:00\",\"2016-11-27T00:00:00\",\"2016-11-28T00:00:00\",\"2016-11-30T00:00:00\",\"2016-12-02T00:00:00\",\"2016-12-05T00:00:00\",\"2016-12-09T00:00:00\",\"2016-12-17T00:00:00\",\"2016-12-19T00:00:00\",\"2017-01-01T00:00:00\",\"2017-01-16T00:00:00\",\"2017-01-26T00:00:00\",\"2017-02-03T00:00:00\",\"2017-02-08T00:00:00\",\"2017-02-12T00:00:00\",\"2017-02-18T00:00:00\",\"2017-02-20T00:00:00\",\"2017-02-26T00:00:00\",\"2017-02-27T00:00:00\",\"2017-03-11T00:00:00\",\"2017-03-18T00:00:00\"],\"xaxis\":\"x\",\"y\":[0.310449735,0.20639881,0.158823529,0.136728395,0.144264069,0.133333333,0.098739496,0.067063492,0.056709957,0.064348371,0.051282051,0.036904762,0.040410053,0.014264928,0.021590909,0.000747863,4.63e-18,-0.011111111,-0.017083333,-0.018055556,-0.036775362,-0.073688272,-0.084933333,-0.093452381,-0.127272727,-0.1,-0.147435897,-0.1,-0.087698413,-0.1375,-0.063235294,-0.058220721,-0.069,-0.05,-0.054441392,-0.02202381,-0.030248918,-0.034038801,-0.036666667,-0.016203704,-0.006923077,-0.002651515,0.020833333,0.018767696,0.06,0.069389339,0.057486631,0.077067669,0.073214286,0.11508547,0.154395604,0.172243108,0.176584022,0.179791667,0.161025641,0.246693122,0.184920635,0.172902098,0.149206349,0.103180272,0.09,0.077051282,0.075,0.05327306,0.051261905,0.059072682,0.0403125,0.045098039,0.029166667,0.022354497],\"yaxis\":\"y\",\"type\":\"scatter\"}],                        {\"template\":{\"data\":{\"histogram2dcontour\":[{\"type\":\"histogram2dcontour\",\"colorbar\":{\"outlinewidth\":0,\"ticks\":\"\"},\"colorscale\":[[0.0,\"#0d0887\"],[0.1111111111111111,\"#46039f\"],[0.2222222222222222,\"#7201a8\"],[0.3333333333333333,\"#9c179e\"],[0.4444444444444444,\"#bd3786\"],[0.5555555555555556,\"#d8576b\"],[0.6666666666666666,\"#ed7953\"],[0.7777777777777778,\"#fb9f3a\"],[0.8888888888888888,\"#fdca26\"],[1.0,\"#f0f921\"]]}],\"choropleth\":[{\"type\":\"choropleth\",\"colorbar\":{\"outlinewidth\":0,\"ticks\":\"\"}}],\"histogram2d\":[{\"type\":\"histogram2d\",\"colorbar\":{\"outlinewidth\":0,\"ticks\":\"\"},\"colorscale\":[[0.0,\"#0d0887\"],[0.1111111111111111,\"#46039f\"],[0.2222222222222222,\"#7201a8\"],[0.3333333333333333,\"#9c179e\"],[0.4444444444444444,\"#bd3786\"],[0.5555555555555556,\"#d8576b\"],[0.6666666666666666,\"#ed7953\"],[0.7777777777777778,\"#fb9f3a\"],[0.8888888888888888,\"#fdca26\"],[1.0,\"#f0f921\"]]}],\"heatmap\":[{\"type\":\"heatmap\",\"colorbar\":{\"outlinewidth\":0,\"ticks\":\"\"},\"colorscale\":[[0.0,\"#0d0887\"],[0.1111111111111111,\"#46039f\"],[0.2222222222222222,\"#7201a8\"],[0.3333333333333333,\"#9c179e\"],[0.4444444444444444,\"#bd3786\"],[0.5555555555555556,\"#d8576b\"],[0.6666666666666666,\"#ed7953\"],[0.7777777777777778,\"#fb9f3a\"],[0.8888888888888888,\"#fdca26\"],[1.0,\"#f0f921\"]]}],\"heatmapgl\":[{\"type\":\"heatmapgl\",\"colorbar\":{\"outlinewidth\":0,\"ticks\":\"\"},\"colorscale\":[[0.0,\"#0d0887\"],[0.1111111111111111,\"#46039f\"],[0.2222222222222222,\"#7201a8\"],[0.3333333333333333,\"#9c179e\"],[0.4444444444444444,\"#bd3786\"],[0.5555555555555556,\"#d8576b\"],[0.6666666666666666,\"#ed7953\"],[0.7777777777777778,\"#fb9f3a\"],[0.8888888888888888,\"#fdca26\"],[1.0,\"#f0f921\"]]}],\"contourcarpet\":[{\"type\":\"contourcarpet\",\"colorbar\":{\"outlinewidth\":0,\"ticks\":\"\"}}],\"contour\":[{\"type\":\"contour\",\"colorbar\":{\"outlinewidth\":0,\"ticks\":\"\"},\"colorscale\":[[0.0,\"#0d0887\"],[0.1111111111111111,\"#46039f\"],[0.2222222222222222,\"#7201a8\"],[0.3333333333333333,\"#9c179e\"],[0.4444444444444444,\"#bd3786\"],[0.5555555555555556,\"#d8576b\"],[0.6666666666666666,\"#ed7953\"],[0.7777777777777778,\"#fb9f3a\"],[0.8888888888888888,\"#fdca26\"],[1.0,\"#f0f921\"]]}],\"surface\":[{\"type\":\"surface\",\"colorbar\":{\"outlinewidth\":0,\"ticks\":\"\"},\"colorscale\":[[0.0,\"#0d0887\"],[0.1111111111111111,\"#46039f\"],[0.2222222222222222,\"#7201a8\"],[0.3333333333333333,\"#9c179e\"],[0.4444444444444444,\"#bd3786\"],[0.5555555555555556,\"#d8576b\"],[0.6666666666666666,\"#ed7953\"],[0.7777777777777778,\"#fb9f3a\"],[0.8888888888888888,\"#fdca26\"],[1.0,\"#f0f921\"]]}],\"mesh3d\":[{\"type\":\"mesh3d\",\"colorbar\":{\"outlinewidth\":0,\"ticks\":\"\"}}],\"scatter\":[{\"fillpattern\":{\"fillmode\":\"overlay\",\"size\":10,\"solidity\":0.2},\"type\":\"scatter\"}],\"parcoords\":[{\"type\":\"parcoords\",\"line\":{\"colorbar\":{\"outlinewidth\":0,\"ticks\":\"\"}}}],\"scatterpolargl\":[{\"type\":\"scatterpolargl\",\"marker\":{\"colorbar\":{\"outlinewidth\":0,\"ticks\":\"\"}}}],\"bar\":[{\"error_x\":{\"color\":\"#2a3f5f\"},\"error_y\":{\"color\":\"#2a3f5f\"},\"marker\":{\"line\":{\"color\":\"#E5ECF6\",\"width\":0.5},\"pattern\":{\"fillmode\":\"overlay\",\"size\":10,\"solidity\":0.2}},\"type\":\"bar\"}],\"scattergeo\":[{\"type\":\"scattergeo\",\"marker\":{\"colorbar\":{\"outlinewidth\":0,\"ticks\":\"\"}}}],\"scatterpolar\":[{\"type\":\"scatterpolar\",\"marker\":{\"colorbar\":{\"outlinewidth\":0,\"ticks\":\"\"}}}],\"histogram\":[{\"marker\":{\"pattern\":{\"fillmode\":\"overlay\",\"size\":10,\"solidity\":0.2}},\"type\":\"histogram\"}],\"scattergl\":[{\"type\":\"scattergl\",\"marker\":{\"colorbar\":{\"outlinewidth\":0,\"ticks\":\"\"}}}],\"scatter3d\":[{\"type\":\"scatter3d\",\"line\":{\"colorbar\":{\"outlinewidth\":0,\"ticks\":\"\"}},\"marker\":{\"colorbar\":{\"outlinewidth\":0,\"ticks\":\"\"}}}],\"scattermapbox\":[{\"type\":\"scattermapbox\",\"marker\":{\"colorbar\":{\"outlinewidth\":0,\"ticks\":\"\"}}}],\"scatterternary\":[{\"type\":\"scatterternary\",\"marker\":{\"colorbar\":{\"outlinewidth\":0,\"ticks\":\"\"}}}],\"scattercarpet\":[{\"type\":\"scattercarpet\",\"marker\":{\"colorbar\":{\"outlinewidth\":0,\"ticks\":\"\"}}}],\"carpet\":[{\"aaxis\":{\"endlinecolor\":\"#2a3f5f\",\"gridcolor\":\"white\",\"linecolor\":\"white\",\"minorgridcolor\":\"white\",\"startlinecolor\":\"#2a3f5f\"},\"baxis\":{\"endlinecolor\":\"#2a3f5f\",\"gridcolor\":\"white\",\"linecolor\":\"white\",\"minorgridcolor\":\"white\",\"startlinecolor\":\"#2a3f5f\"},\"type\":\"carpet\"}],\"table\":[{\"cells\":{\"fill\":{\"color\":\"#EBF0F8\"},\"line\":{\"color\":\"white\"}},\"header\":{\"fill\":{\"color\":\"#C8D4E3\"},\"line\":{\"color\":\"white\"}},\"type\":\"table\"}],\"barpolar\":[{\"marker\":{\"line\":{\"color\":\"#E5ECF6\",\"width\":0.5},\"pattern\":{\"fillmode\":\"overlay\",\"size\":10,\"solidity\":0.2}},\"type\":\"barpolar\"}],\"pie\":[{\"automargin\":true,\"type\":\"pie\"}]},\"layout\":{\"autotypenumbers\":\"strict\",\"colorway\":[\"#636efa\",\"#EF553B\",\"#00cc96\",\"#ab63fa\",\"#FFA15A\",\"#19d3f3\",\"#FF6692\",\"#B6E880\",\"#FF97FF\",\"#FECB52\"],\"font\":{\"color\":\"#2a3f5f\"},\"hovermode\":\"closest\",\"hoverlabel\":{\"align\":\"left\"},\"paper_bgcolor\":\"white\",\"plot_bgcolor\":\"#E5ECF6\",\"polar\":{\"bgcolor\":\"#E5ECF6\",\"angularaxis\":{\"gridcolor\":\"white\",\"linecolor\":\"white\",\"ticks\":\"\"},\"radialaxis\":{\"gridcolor\":\"white\",\"linecolor\":\"white\",\"ticks\":\"\"}},\"ternary\":{\"bgcolor\":\"#E5ECF6\",\"aaxis\":{\"gridcolor\":\"white\",\"linecolor\":\"white\",\"ticks\":\"\"},\"baxis\":{\"gridcolor\":\"white\",\"linecolor\":\"white\",\"ticks\":\"\"},\"caxis\":{\"gridcolor\":\"white\",\"linecolor\":\"white\",\"ticks\":\"\"}},\"coloraxis\":{\"colorbar\":{\"outlinewidth\":0,\"ticks\":\"\"}},\"colorscale\":{\"sequential\":[[0.0,\"#0d0887\"],[0.1111111111111111,\"#46039f\"],[0.2222222222222222,\"#7201a8\"],[0.3333333333333333,\"#9c179e\"],[0.4444444444444444,\"#bd3786\"],[0.5555555555555556,\"#d8576b\"],[0.6666666666666666,\"#ed7953\"],[0.7777777777777778,\"#fb9f3a\"],[0.8888888888888888,\"#fdca26\"],[1.0,\"#f0f921\"]],\"sequentialminus\":[[0.0,\"#0d0887\"],[0.1111111111111111,\"#46039f\"],[0.2222222222222222,\"#7201a8\"],[0.3333333333333333,\"#9c179e\"],[0.4444444444444444,\"#bd3786\"],[0.5555555555555556,\"#d8576b\"],[0.6666666666666666,\"#ed7953\"],[0.7777777777777778,\"#fb9f3a\"],[0.8888888888888888,\"#fdca26\"],[1.0,\"#f0f921\"]],\"diverging\":[[0,\"#8e0152\"],[0.1,\"#c51b7d\"],[0.2,\"#de77ae\"],[0.3,\"#f1b6da\"],[0.4,\"#fde0ef\"],[0.5,\"#f7f7f7\"],[0.6,\"#e6f5d0\"],[0.7,\"#b8e186\"],[0.8,\"#7fbc41\"],[0.9,\"#4d9221\"],[1,\"#276419\"]]},\"xaxis\":{\"gridcolor\":\"white\",\"linecolor\":\"white\",\"ticks\":\"\",\"title\":{\"standoff\":15},\"zerolinecolor\":\"white\",\"automargin\":true,\"zerolinewidth\":2},\"yaxis\":{\"gridcolor\":\"white\",\"linecolor\":\"white\",\"ticks\":\"\",\"title\":{\"standoff\":15},\"zerolinecolor\":\"white\",\"automargin\":true,\"zerolinewidth\":2},\"scene\":{\"xaxis\":{\"backgroundcolor\":\"#E5ECF6\",\"gridcolor\":\"white\",\"linecolor\":\"white\",\"showbackground\":true,\"ticks\":\"\",\"zerolinecolor\":\"white\",\"gridwidth\":2},\"yaxis\":{\"backgroundcolor\":\"#E5ECF6\",\"gridcolor\":\"white\",\"linecolor\":\"white\",\"showbackground\":true,\"ticks\":\"\",\"zerolinecolor\":\"white\",\"gridwidth\":2},\"zaxis\":{\"backgroundcolor\":\"#E5ECF6\",\"gridcolor\":\"white\",\"linecolor\":\"white\",\"showbackground\":true,\"ticks\":\"\",\"zerolinecolor\":\"white\",\"gridwidth\":2}},\"shapedefaults\":{\"line\":{\"color\":\"#2a3f5f\"}},\"annotationdefaults\":{\"arrowcolor\":\"#2a3f5f\",\"arrowhead\":0,\"arrowwidth\":1},\"geo\":{\"bgcolor\":\"white\",\"landcolor\":\"#E5ECF6\",\"subunitcolor\":\"white\",\"showland\":true,\"showlakes\":true,\"lakecolor\":\"white\"},\"title\":{\"x\":0.05},\"mapbox\":{\"style\":\"light\"}}},\"xaxis\":{\"anchor\":\"y\",\"domain\":[0.0,1.0],\"title\":{\"text\":\"date\"}},\"yaxis\":{\"anchor\":\"x\",\"domain\":[0.0,1.0],\"title\":{\"text\":\"sent\"}},\"legend\":{\"title\":{\"text\":\"type\"},\"tracegroupgap\":0},\"margin\":{\"t\":60}},                        {\"responsive\": true}                    ).then(function(){\n",
       "                            \n",
       "var gd = document.getElementById('c919cba5-0016-4fab-849a-8617c957e4f7');\n",
       "var x = new MutationObserver(function (mutations, observer) {{\n",
       "        var display = window.getComputedStyle(gd).display;\n",
       "        if (!display || display === 'none') {{\n",
       "            console.log([gd, 'removed!']);\n",
       "            Plotly.purge(gd);\n",
       "            observer.disconnect();\n",
       "        }}\n",
       "}});\n",
       "\n",
       "// Listen for the removal of the full notebook cells\n",
       "var notebookContainer = gd.closest('#notebook-container');\n",
       "if (notebookContainer) {{\n",
       "    x.observe(notebookContainer, {childList: true});\n",
       "}}\n",
       "\n",
       "// Listen for the clearing of the current output cell\n",
       "var outputEl = gd.closest('.output');\n",
       "if (outputEl) {{\n",
       "    x.observe(outputEl, {childList: true});\n",
       "}}\n",
       "\n",
       "                        })                };                });            </script>        </div>"
      ]
     },
     "metadata": {},
     "output_type": "display_data"
    },
    {
     "name": "stdout",
     "output_type": "stream",
     "text": [
      "Feature Vector with all Features\n",
      "\n",
      "Prediction of the Validation Set\n"
     ]
    },
    {
     "name": "stderr",
     "output_type": "stream",
     "text": [
      "C:\\Users\\jimni\\LocalCapstone\\Lib\\site-packages\\plotly\\express\\_core.py:2065: FutureWarning:\n",
      "\n",
      "When grouping with a length-1 list-like, you will need to pass a length-1 tuple to get_group in a future version of pandas. Pass `(name,)` instead of `name` to silence this warning.\n",
      "\n"
     ]
    },
    {
     "data": {
      "application/vnd.plotly.v1+json": {
       "config": {
        "plotlyServerURL": "https://plot.ly"
       },
       "data": [
        {
         "hovertemplate": "type=Sentiment prediction<br>date=%{x}<br>sent=%{y}<extra></extra>",
         "legendgroup": "Sentiment prediction",
         "line": {
          "color": "#636efa",
          "dash": "solid"
         },
         "marker": {
          "symbol": "circle"
         },
         "mode": "lines",
         "name": "Sentiment prediction",
         "orientation": "v",
         "showlegend": true,
         "type": "scatter",
         "x": [
          "2017-03-29T00:00:00",
          "2017-03-30T00:00:00",
          "2017-03-31T00:00:00",
          "2017-04-01T00:00:00",
          "2017-04-02T00:00:00",
          "2017-04-03T00:00:00",
          "2017-04-04T00:00:00",
          "2017-04-05T00:00:00",
          "2017-04-06T00:00:00",
          "2017-04-07T00:00:00",
          "2017-04-08T00:00:00",
          "2017-04-09T00:00:00",
          "2017-04-10T00:00:00",
          "2017-04-11T00:00:00",
          "2017-04-12T00:00:00",
          "2017-04-13T00:00:00",
          "2017-04-14T00:00:00",
          "2017-04-15T00:00:00",
          "2017-04-16T00:00:00",
          "2017-04-17T00:00:00",
          "2017-04-18T00:00:00",
          "2017-04-19T00:00:00",
          "2017-04-20T00:00:00",
          "2017-04-21T00:00:00",
          "2017-04-22T00:00:00",
          "2017-04-23T00:00:00",
          "2017-04-24T00:00:00",
          "2017-04-25T00:00:00",
          "2017-04-26T00:00:00",
          "2017-04-27T00:00:00",
          "2017-04-28T00:00:00",
          "2017-04-29T00:00:00",
          "2017-04-30T00:00:00",
          "2017-05-01T00:00:00",
          "2017-05-02T00:00:00",
          "2017-05-03T00:00:00",
          "2017-05-04T00:00:00",
          "2017-05-05T00:00:00",
          "2017-05-06T00:00:00",
          "2017-05-07T00:00:00",
          "2017-05-08T00:00:00",
          "2017-05-09T00:00:00",
          "2017-05-10T00:00:00",
          "2017-05-11T00:00:00",
          "2017-05-12T00:00:00",
          "2017-05-13T00:00:00",
          "2017-05-14T00:00:00",
          "2017-05-15T00:00:00",
          "2017-05-16T00:00:00",
          "2017-05-17T00:00:00",
          "2017-05-18T00:00:00",
          "2017-05-19T00:00:00",
          "2017-05-20T00:00:00",
          "2017-05-21T00:00:00",
          "2017-05-22T00:00:00",
          "2017-05-23T00:00:00",
          "2017-05-24T00:00:00",
          "2017-05-25T00:00:00",
          "2017-05-26T00:00:00",
          "2017-05-27T00:00:00",
          "2017-05-28T00:00:00",
          "2017-05-29T00:00:00",
          "2017-05-30T00:00:00",
          "2017-05-31T00:00:00",
          "2017-06-01T00:00:00",
          "2017-06-02T00:00:00",
          "2017-06-03T00:00:00",
          "2017-06-04T00:00:00",
          "2017-06-05T00:00:00",
          "2017-06-06T00:00:00",
          "2017-06-07T00:00:00",
          "2017-06-08T00:00:00",
          "2017-06-09T00:00:00",
          "2017-06-10T00:00:00",
          "2017-06-11T00:00:00",
          "2017-06-12T00:00:00",
          "2017-06-13T00:00:00",
          "2017-06-14T00:00:00",
          "2017-06-15T00:00:00",
          "2017-06-16T00:00:00",
          "2017-06-17T00:00:00"
         ],
         "xaxis": "x",
         "y": [
          0.01773860678076744,
          0.013943524099886417,
          0.011298524215817451,
          -0.0005878182128071785,
          0.0031754192896187305,
          0.001623015385121107,
          -0.0006603194633498788,
          -0.02917046658694744,
          0.0012320764362812042,
          0.002086675725877285,
          0.0007854094728827477,
          -0.010338411666452885,
          -0.004579523578286171,
          -0.0035762570332735777,
          -0.004986352752894163,
          -0.010815776884555817,
          -0.007708468474447727,
          -0.0025342595763504505,
          -0.008369645103812218,
          -0.010975495912134647,
          -0.01564340479671955,
          -0.016856202855706215,
          -0.017646512016654015,
          -0.015187020413577557,
          -0.012950867414474487,
          -0.011714710853993893,
          -0.019526392221450806,
          -0.018957534804940224,
          -0.02655540220439434,
          -0.014261113479733467,
          -0.018434910103678703,
          -0.050632964819669724,
          -0.017916299402713776,
          -0.02969871088862419,
          -0.03519441559910774,
          -0.04278993234038353,
          -0.040556054562330246,
          -0.04126349091529846,
          -0.033901382237672806,
          -0.04156142845749855,
          -0.04305616766214371,
          -0.04305616766214371,
          -0.05474027618765831,
          -0.052564527839422226,
          -0.04719654843211174,
          -0.05135714262723923,
          -0.05697221681475639,
          -0.08435870707035065,
          -0.05112003907561302,
          -0.050372399389743805,
          -0.04788750410079956,
          -0.05175458639860153,
          -0.05089303106069565,
          -0.05007825791835785,
          -0.056338828057050705,
          -0.05525738000869751,
          -0.05502054840326309,
          -0.061030950397253036,
          -0.05090771242976189,
          -0.05090771242976189,
          -0.08900650590658188,
          -0.03772422671318054,
          -0.05566858500242233,
          -0.06246156245470047,
          -0.18651875853538513,
          -0.10905904322862625,
          -0.10957568883895874,
          -0.12001927196979523,
          -0.11232320219278336,
          -0.1202467605471611,
          -0.1381385773420334,
          -0.1164984479546547,
          -0.1805618703365326,
          -0.13592612743377686,
          -0.17537952959537506,
          -0.13126617670059204,
          -0.1299314796924591,
          -0.13276854157447815,
          -0.17279654741287231,
          -0.12696750462055206,
          -0.21134687960147858
         ],
         "yaxis": "y"
        },
        {
         "hovertemplate": "type=Sentiment<br>date=%{x}<br>sent=%{y}<extra></extra>",
         "legendgroup": "Sentiment",
         "line": {
          "color": "#EF553B",
          "dash": "solid"
         },
         "marker": {
          "symbol": "circle"
         },
         "mode": "lines",
         "name": "Sentiment",
         "orientation": "v",
         "showlegend": true,
         "type": "scatter",
         "x": [
          "2017-03-29T00:00:00",
          "2017-03-30T00:00:00",
          "2017-03-31T00:00:00",
          "2017-04-01T00:00:00",
          "2017-04-02T00:00:00",
          "2017-04-03T00:00:00",
          "2017-04-04T00:00:00",
          "2017-04-05T00:00:00",
          "2017-04-06T00:00:00",
          "2017-04-07T00:00:00",
          "2017-04-08T00:00:00",
          "2017-04-09T00:00:00",
          "2017-04-10T00:00:00",
          "2017-04-11T00:00:00",
          "2017-04-12T00:00:00",
          "2017-04-13T00:00:00",
          "2017-04-14T00:00:00",
          "2017-04-15T00:00:00",
          "2017-04-16T00:00:00",
          "2017-04-17T00:00:00",
          "2017-04-18T00:00:00",
          "2017-04-19T00:00:00",
          "2017-04-20T00:00:00",
          "2017-04-21T00:00:00",
          "2017-04-22T00:00:00",
          "2017-04-23T00:00:00",
          "2017-04-24T00:00:00",
          "2017-04-25T00:00:00",
          "2017-04-26T00:00:00",
          "2017-04-27T00:00:00",
          "2017-04-28T00:00:00",
          "2017-04-29T00:00:00",
          "2017-04-30T00:00:00",
          "2017-05-01T00:00:00",
          "2017-05-02T00:00:00",
          "2017-05-03T00:00:00",
          "2017-05-04T00:00:00",
          "2017-05-05T00:00:00",
          "2017-05-06T00:00:00",
          "2017-05-07T00:00:00",
          "2017-05-08T00:00:00",
          "2017-05-09T00:00:00",
          "2017-05-10T00:00:00",
          "2017-05-11T00:00:00",
          "2017-05-12T00:00:00",
          "2017-05-13T00:00:00",
          "2017-05-14T00:00:00",
          "2017-05-15T00:00:00",
          "2017-05-16T00:00:00",
          "2017-05-17T00:00:00",
          "2017-05-18T00:00:00",
          "2017-05-19T00:00:00",
          "2017-05-20T00:00:00",
          "2017-05-21T00:00:00",
          "2017-05-22T00:00:00",
          "2017-05-23T00:00:00",
          "2017-05-24T00:00:00",
          "2017-05-25T00:00:00",
          "2017-05-26T00:00:00",
          "2017-05-27T00:00:00",
          "2017-05-28T00:00:00",
          "2017-05-29T00:00:00",
          "2017-05-30T00:00:00",
          "2017-05-31T00:00:00",
          "2017-06-01T00:00:00",
          "2017-06-02T00:00:00",
          "2017-06-03T00:00:00",
          "2017-06-04T00:00:00",
          "2017-06-05T00:00:00",
          "2017-06-06T00:00:00",
          "2017-06-07T00:00:00",
          "2017-06-08T00:00:00",
          "2017-06-09T00:00:00",
          "2017-06-10T00:00:00",
          "2017-06-11T00:00:00",
          "2017-06-12T00:00:00",
          "2017-06-13T00:00:00",
          "2017-06-14T00:00:00",
          "2017-06-15T00:00:00",
          "2017-06-16T00:00:00",
          "2017-06-17T00:00:00"
         ],
         "xaxis": "x",
         "y": [
          0.000320513,
          -0.000440631,
          0.001255981,
          0.006949681,
          0.0121004,
          0.005555556,
          0.005555556,
          0.009375,
          0.004166667,
          0.004166667,
          -0.003629032,
          -0.0025,
          -0.010483871,
          -0.009201389,
          -0.006666667,
          -0.008333333,
          -0.01,
          -0.005555556,
          -0.007936508,
          -0.014010989,
          -0.018181818,
          -0.016071429,
          -0.0175,
          -0.017767677,
          -0.020779221,
          -0.012199081,
          -0.021428571,
          -0.011111111,
          -0.011111111,
          -0.031439394,
          -0.025,
          -0.033875,
          -0.035615079,
          -0.027936508,
          -0.023953634,
          -0.023953634,
          -0.022914781,
          -0.025757576,
          -0.038636364,
          -0.053205128,
          -0.048071625,
          -0.048071625,
          -0.051351351,
          -0.04897343,
          -0.045486111,
          -0.042857143,
          -0.041704545,
          -0.05530303,
          -0.054166667,
          -0.060345805,
          -0.065740741,
          -0.06452381,
          -0.062911726,
          -0.0625,
          -0.067368421,
          -0.058333333,
          -0.058333333,
          -0.058333333,
          -0.057056535,
          -0.057056535,
          -0.058035714,
          -0.08,
          -0.08,
          -0.0825,
          -0.100460526,
          -0.070480769,
          -0.085714286,
          -0.074637681,
          -0.092307692,
          -0.098076923,
          -0.107352941,
          -0.181753472,
          -0.175,
          -0.122222222,
          -0.158169935,
          -0.171428571,
          -0.238408521,
          -0.144677871,
          -0.1375,
          -0.1375,
          -0.116315789
         ],
         "yaxis": "y"
        }
       ],
       "layout": {
        "autosize": true,
        "legend": {
         "title": {
          "text": "type"
         },
         "tracegroupgap": 0
        },
        "margin": {
         "t": 60
        },
        "template": {
         "data": {
          "bar": [
           {
            "error_x": {
             "color": "#2a3f5f"
            },
            "error_y": {
             "color": "#2a3f5f"
            },
            "marker": {
             "line": {
              "color": "#E5ECF6",
              "width": 0.5
             },
             "pattern": {
              "fillmode": "overlay",
              "size": 10,
              "solidity": 0.2
             }
            },
            "type": "bar"
           }
          ],
          "barpolar": [
           {
            "marker": {
             "line": {
              "color": "#E5ECF6",
              "width": 0.5
             },
             "pattern": {
              "fillmode": "overlay",
              "size": 10,
              "solidity": 0.2
             }
            },
            "type": "barpolar"
           }
          ],
          "carpet": [
           {
            "aaxis": {
             "endlinecolor": "#2a3f5f",
             "gridcolor": "white",
             "linecolor": "white",
             "minorgridcolor": "white",
             "startlinecolor": "#2a3f5f"
            },
            "baxis": {
             "endlinecolor": "#2a3f5f",
             "gridcolor": "white",
             "linecolor": "white",
             "minorgridcolor": "white",
             "startlinecolor": "#2a3f5f"
            },
            "type": "carpet"
           }
          ],
          "choropleth": [
           {
            "colorbar": {
             "outlinewidth": 0,
             "ticks": ""
            },
            "type": "choropleth"
           }
          ],
          "contour": [
           {
            "colorbar": {
             "outlinewidth": 0,
             "ticks": ""
            },
            "colorscale": [
             [
              0,
              "#0d0887"
             ],
             [
              0.1111111111111111,
              "#46039f"
             ],
             [
              0.2222222222222222,
              "#7201a8"
             ],
             [
              0.3333333333333333,
              "#9c179e"
             ],
             [
              0.4444444444444444,
              "#bd3786"
             ],
             [
              0.5555555555555556,
              "#d8576b"
             ],
             [
              0.6666666666666666,
              "#ed7953"
             ],
             [
              0.7777777777777778,
              "#fb9f3a"
             ],
             [
              0.8888888888888888,
              "#fdca26"
             ],
             [
              1,
              "#f0f921"
             ]
            ],
            "type": "contour"
           }
          ],
          "contourcarpet": [
           {
            "colorbar": {
             "outlinewidth": 0,
             "ticks": ""
            },
            "type": "contourcarpet"
           }
          ],
          "heatmap": [
           {
            "colorbar": {
             "outlinewidth": 0,
             "ticks": ""
            },
            "colorscale": [
             [
              0,
              "#0d0887"
             ],
             [
              0.1111111111111111,
              "#46039f"
             ],
             [
              0.2222222222222222,
              "#7201a8"
             ],
             [
              0.3333333333333333,
              "#9c179e"
             ],
             [
              0.4444444444444444,
              "#bd3786"
             ],
             [
              0.5555555555555556,
              "#d8576b"
             ],
             [
              0.6666666666666666,
              "#ed7953"
             ],
             [
              0.7777777777777778,
              "#fb9f3a"
             ],
             [
              0.8888888888888888,
              "#fdca26"
             ],
             [
              1,
              "#f0f921"
             ]
            ],
            "type": "heatmap"
           }
          ],
          "heatmapgl": [
           {
            "colorbar": {
             "outlinewidth": 0,
             "ticks": ""
            },
            "colorscale": [
             [
              0,
              "#0d0887"
             ],
             [
              0.1111111111111111,
              "#46039f"
             ],
             [
              0.2222222222222222,
              "#7201a8"
             ],
             [
              0.3333333333333333,
              "#9c179e"
             ],
             [
              0.4444444444444444,
              "#bd3786"
             ],
             [
              0.5555555555555556,
              "#d8576b"
             ],
             [
              0.6666666666666666,
              "#ed7953"
             ],
             [
              0.7777777777777778,
              "#fb9f3a"
             ],
             [
              0.8888888888888888,
              "#fdca26"
             ],
             [
              1,
              "#f0f921"
             ]
            ],
            "type": "heatmapgl"
           }
          ],
          "histogram": [
           {
            "marker": {
             "pattern": {
              "fillmode": "overlay",
              "size": 10,
              "solidity": 0.2
             }
            },
            "type": "histogram"
           }
          ],
          "histogram2d": [
           {
            "colorbar": {
             "outlinewidth": 0,
             "ticks": ""
            },
            "colorscale": [
             [
              0,
              "#0d0887"
             ],
             [
              0.1111111111111111,
              "#46039f"
             ],
             [
              0.2222222222222222,
              "#7201a8"
             ],
             [
              0.3333333333333333,
              "#9c179e"
             ],
             [
              0.4444444444444444,
              "#bd3786"
             ],
             [
              0.5555555555555556,
              "#d8576b"
             ],
             [
              0.6666666666666666,
              "#ed7953"
             ],
             [
              0.7777777777777778,
              "#fb9f3a"
             ],
             [
              0.8888888888888888,
              "#fdca26"
             ],
             [
              1,
              "#f0f921"
             ]
            ],
            "type": "histogram2d"
           }
          ],
          "histogram2dcontour": [
           {
            "colorbar": {
             "outlinewidth": 0,
             "ticks": ""
            },
            "colorscale": [
             [
              0,
              "#0d0887"
             ],
             [
              0.1111111111111111,
              "#46039f"
             ],
             [
              0.2222222222222222,
              "#7201a8"
             ],
             [
              0.3333333333333333,
              "#9c179e"
             ],
             [
              0.4444444444444444,
              "#bd3786"
             ],
             [
              0.5555555555555556,
              "#d8576b"
             ],
             [
              0.6666666666666666,
              "#ed7953"
             ],
             [
              0.7777777777777778,
              "#fb9f3a"
             ],
             [
              0.8888888888888888,
              "#fdca26"
             ],
             [
              1,
              "#f0f921"
             ]
            ],
            "type": "histogram2dcontour"
           }
          ],
          "mesh3d": [
           {
            "colorbar": {
             "outlinewidth": 0,
             "ticks": ""
            },
            "type": "mesh3d"
           }
          ],
          "parcoords": [
           {
            "line": {
             "colorbar": {
              "outlinewidth": 0,
              "ticks": ""
             }
            },
            "type": "parcoords"
           }
          ],
          "pie": [
           {
            "automargin": true,
            "type": "pie"
           }
          ],
          "scatter": [
           {
            "fillpattern": {
             "fillmode": "overlay",
             "size": 10,
             "solidity": 0.2
            },
            "type": "scatter"
           }
          ],
          "scatter3d": [
           {
            "line": {
             "colorbar": {
              "outlinewidth": 0,
              "ticks": ""
             }
            },
            "marker": {
             "colorbar": {
              "outlinewidth": 0,
              "ticks": ""
             }
            },
            "type": "scatter3d"
           }
          ],
          "scattercarpet": [
           {
            "marker": {
             "colorbar": {
              "outlinewidth": 0,
              "ticks": ""
             }
            },
            "type": "scattercarpet"
           }
          ],
          "scattergeo": [
           {
            "marker": {
             "colorbar": {
              "outlinewidth": 0,
              "ticks": ""
             }
            },
            "type": "scattergeo"
           }
          ],
          "scattergl": [
           {
            "marker": {
             "colorbar": {
              "outlinewidth": 0,
              "ticks": ""
             }
            },
            "type": "scattergl"
           }
          ],
          "scattermapbox": [
           {
            "marker": {
             "colorbar": {
              "outlinewidth": 0,
              "ticks": ""
             }
            },
            "type": "scattermapbox"
           }
          ],
          "scatterpolar": [
           {
            "marker": {
             "colorbar": {
              "outlinewidth": 0,
              "ticks": ""
             }
            },
            "type": "scatterpolar"
           }
          ],
          "scatterpolargl": [
           {
            "marker": {
             "colorbar": {
              "outlinewidth": 0,
              "ticks": ""
             }
            },
            "type": "scatterpolargl"
           }
          ],
          "scatterternary": [
           {
            "marker": {
             "colorbar": {
              "outlinewidth": 0,
              "ticks": ""
             }
            },
            "type": "scatterternary"
           }
          ],
          "surface": [
           {
            "colorbar": {
             "outlinewidth": 0,
             "ticks": ""
            },
            "colorscale": [
             [
              0,
              "#0d0887"
             ],
             [
              0.1111111111111111,
              "#46039f"
             ],
             [
              0.2222222222222222,
              "#7201a8"
             ],
             [
              0.3333333333333333,
              "#9c179e"
             ],
             [
              0.4444444444444444,
              "#bd3786"
             ],
             [
              0.5555555555555556,
              "#d8576b"
             ],
             [
              0.6666666666666666,
              "#ed7953"
             ],
             [
              0.7777777777777778,
              "#fb9f3a"
             ],
             [
              0.8888888888888888,
              "#fdca26"
             ],
             [
              1,
              "#f0f921"
             ]
            ],
            "type": "surface"
           }
          ],
          "table": [
           {
            "cells": {
             "fill": {
              "color": "#EBF0F8"
             },
             "line": {
              "color": "white"
             }
            },
            "header": {
             "fill": {
              "color": "#C8D4E3"
             },
             "line": {
              "color": "white"
             }
            },
            "type": "table"
           }
          ]
         },
         "layout": {
          "annotationdefaults": {
           "arrowcolor": "#2a3f5f",
           "arrowhead": 0,
           "arrowwidth": 1
          },
          "autotypenumbers": "strict",
          "coloraxis": {
           "colorbar": {
            "outlinewidth": 0,
            "ticks": ""
           }
          },
          "colorscale": {
           "diverging": [
            [
             0,
             "#8e0152"
            ],
            [
             0.1,
             "#c51b7d"
            ],
            [
             0.2,
             "#de77ae"
            ],
            [
             0.3,
             "#f1b6da"
            ],
            [
             0.4,
             "#fde0ef"
            ],
            [
             0.5,
             "#f7f7f7"
            ],
            [
             0.6,
             "#e6f5d0"
            ],
            [
             0.7,
             "#b8e186"
            ],
            [
             0.8,
             "#7fbc41"
            ],
            [
             0.9,
             "#4d9221"
            ],
            [
             1,
             "#276419"
            ]
           ],
           "sequential": [
            [
             0,
             "#0d0887"
            ],
            [
             0.1111111111111111,
             "#46039f"
            ],
            [
             0.2222222222222222,
             "#7201a8"
            ],
            [
             0.3333333333333333,
             "#9c179e"
            ],
            [
             0.4444444444444444,
             "#bd3786"
            ],
            [
             0.5555555555555556,
             "#d8576b"
            ],
            [
             0.6666666666666666,
             "#ed7953"
            ],
            [
             0.7777777777777778,
             "#fb9f3a"
            ],
            [
             0.8888888888888888,
             "#fdca26"
            ],
            [
             1,
             "#f0f921"
            ]
           ],
           "sequentialminus": [
            [
             0,
             "#0d0887"
            ],
            [
             0.1111111111111111,
             "#46039f"
            ],
            [
             0.2222222222222222,
             "#7201a8"
            ],
            [
             0.3333333333333333,
             "#9c179e"
            ],
            [
             0.4444444444444444,
             "#bd3786"
            ],
            [
             0.5555555555555556,
             "#d8576b"
            ],
            [
             0.6666666666666666,
             "#ed7953"
            ],
            [
             0.7777777777777778,
             "#fb9f3a"
            ],
            [
             0.8888888888888888,
             "#fdca26"
            ],
            [
             1,
             "#f0f921"
            ]
           ]
          },
          "colorway": [
           "#636efa",
           "#EF553B",
           "#00cc96",
           "#ab63fa",
           "#FFA15A",
           "#19d3f3",
           "#FF6692",
           "#B6E880",
           "#FF97FF",
           "#FECB52"
          ],
          "font": {
           "color": "#2a3f5f"
          },
          "geo": {
           "bgcolor": "white",
           "lakecolor": "white",
           "landcolor": "#E5ECF6",
           "showlakes": true,
           "showland": true,
           "subunitcolor": "white"
          },
          "hoverlabel": {
           "align": "left"
          },
          "hovermode": "closest",
          "mapbox": {
           "style": "light"
          },
          "paper_bgcolor": "white",
          "plot_bgcolor": "#E5ECF6",
          "polar": {
           "angularaxis": {
            "gridcolor": "white",
            "linecolor": "white",
            "ticks": ""
           },
           "bgcolor": "#E5ECF6",
           "radialaxis": {
            "gridcolor": "white",
            "linecolor": "white",
            "ticks": ""
           }
          },
          "scene": {
           "xaxis": {
            "backgroundcolor": "#E5ECF6",
            "gridcolor": "white",
            "gridwidth": 2,
            "linecolor": "white",
            "showbackground": true,
            "ticks": "",
            "zerolinecolor": "white"
           },
           "yaxis": {
            "backgroundcolor": "#E5ECF6",
            "gridcolor": "white",
            "gridwidth": 2,
            "linecolor": "white",
            "showbackground": true,
            "ticks": "",
            "zerolinecolor": "white"
           },
           "zaxis": {
            "backgroundcolor": "#E5ECF6",
            "gridcolor": "white",
            "gridwidth": 2,
            "linecolor": "white",
            "showbackground": true,
            "ticks": "",
            "zerolinecolor": "white"
           }
          },
          "shapedefaults": {
           "line": {
            "color": "#2a3f5f"
           }
          },
          "ternary": {
           "aaxis": {
            "gridcolor": "white",
            "linecolor": "white",
            "ticks": ""
           },
           "baxis": {
            "gridcolor": "white",
            "linecolor": "white",
            "ticks": ""
           },
           "bgcolor": "#E5ECF6",
           "caxis": {
            "gridcolor": "white",
            "linecolor": "white",
            "ticks": ""
           }
          },
          "title": {
           "x": 0.05
          },
          "xaxis": {
           "automargin": true,
           "gridcolor": "white",
           "linecolor": "white",
           "ticks": "",
           "title": {
            "standoff": 15
           },
           "zerolinecolor": "white",
           "zerolinewidth": 2
          },
          "yaxis": {
           "automargin": true,
           "gridcolor": "white",
           "linecolor": "white",
           "ticks": "",
           "title": {
            "standoff": 15
           },
           "zerolinecolor": "white",
           "zerolinewidth": 2
          }
         }
        },
        "xaxis": {
         "anchor": "y",
         "autorange": true,
         "domain": [
          0,
          1
         ],
         "range": [
          "2017-03-29",
          "2017-06-17"
         ],
         "title": {
          "text": "date"
         },
         "type": "date"
        },
        "yaxis": {
         "anchor": "x",
         "autorange": true,
         "domain": [
          0,
          1
         ],
         "range": [
          -0.2526389169878204,
          0.031969002768587856
         ],
         "title": {
          "text": "sent"
         },
         "type": "linear"
        }
       }
      },
      "image/png": "[encoded data removed]",
      "text/html": [
       "<div>                            <div id=\"0202f097-c07f-45b1-808d-115b18cf1d58\" class=\"plotly-graph-div\" style=\"height:525px; width:100%;\"></div>            <script type=\"text/javascript\">                require([\"plotly\"], function(Plotly) {                    window.PLOTLYENV=window.PLOTLYENV || {};                                    if (document.getElementById(\"0202f097-c07f-45b1-808d-115b18cf1d58\")) {                    Plotly.newPlot(                        \"0202f097-c07f-45b1-808d-115b18cf1d58\",                        [{\"hovertemplate\":\"type=Sentiment prediction\\u003cbr\\u003edate=%{x}\\u003cbr\\u003esent=%{y}\\u003cextra\\u003e\\u003c\\u002fextra\\u003e\",\"legendgroup\":\"Sentiment prediction\",\"line\":{\"color\":\"#636efa\",\"dash\":\"solid\"},\"marker\":{\"symbol\":\"circle\"},\"mode\":\"lines\",\"name\":\"Sentiment prediction\",\"orientation\":\"v\",\"showlegend\":true,\"x\":[\"2017-03-29T00:00:00\",\"2017-03-30T00:00:00\",\"2017-03-31T00:00:00\",\"2017-04-01T00:00:00\",\"2017-04-02T00:00:00\",\"2017-04-03T00:00:00\",\"2017-04-04T00:00:00\",\"2017-04-05T00:00:00\",\"2017-04-06T00:00:00\",\"2017-04-07T00:00:00\",\"2017-04-08T00:00:00\",\"2017-04-09T00:00:00\",\"2017-04-10T00:00:00\",\"2017-04-11T00:00:00\",\"2017-04-12T00:00:00\",\"2017-04-13T00:00:00\",\"2017-04-14T00:00:00\",\"2017-04-15T00:00:00\",\"2017-04-16T00:00:00\",\"2017-04-17T00:00:00\",\"2017-04-18T00:00:00\",\"2017-04-19T00:00:00\",\"2017-04-20T00:00:00\",\"2017-04-21T00:00:00\",\"2017-04-22T00:00:00\",\"2017-04-23T00:00:00\",\"2017-04-24T00:00:00\",\"2017-04-25T00:00:00\",\"2017-04-26T00:00:00\",\"2017-04-27T00:00:00\",\"2017-04-28T00:00:00\",\"2017-04-29T00:00:00\",\"2017-04-30T00:00:00\",\"2017-05-01T00:00:00\",\"2017-05-02T00:00:00\",\"2017-05-03T00:00:00\",\"2017-05-04T00:00:00\",\"2017-05-05T00:00:00\",\"2017-05-06T00:00:00\",\"2017-05-07T00:00:00\",\"2017-05-08T00:00:00\",\"2017-05-09T00:00:00\",\"2017-05-10T00:00:00\",\"2017-05-11T00:00:00\",\"2017-05-12T00:00:00\",\"2017-05-13T00:00:00\",\"2017-05-14T00:00:00\",\"2017-05-15T00:00:00\",\"2017-05-16T00:00:00\",\"2017-05-17T00:00:00\",\"2017-05-18T00:00:00\",\"2017-05-19T00:00:00\",\"2017-05-20T00:00:00\",\"2017-05-21T00:00:00\",\"2017-05-22T00:00:00\",\"2017-05-23T00:00:00\",\"2017-05-24T00:00:00\",\"2017-05-25T00:00:00\",\"2017-05-26T00:00:00\",\"2017-05-27T00:00:00\",\"2017-05-28T00:00:00\",\"2017-05-29T00:00:00\",\"2017-05-30T00:00:00\",\"2017-05-31T00:00:00\",\"2017-06-01T00:00:00\",\"2017-06-02T00:00:00\",\"2017-06-03T00:00:00\",\"2017-06-04T00:00:00\",\"2017-06-05T00:00:00\",\"2017-06-06T00:00:00\",\"2017-06-07T00:00:00\",\"2017-06-08T00:00:00\",\"2017-06-09T00:00:00\",\"2017-06-10T00:00:00\",\"2017-06-11T00:00:00\",\"2017-06-12T00:00:00\",\"2017-06-13T00:00:00\",\"2017-06-14T00:00:00\",\"2017-06-15T00:00:00\",\"2017-06-16T00:00:00\",\"2017-06-17T00:00:00\"],\"xaxis\":\"x\",\"y\":[0.01773860678076744,0.013943524099886417,0.011298524215817451,-0.0005878182128071785,0.0031754192896187305,0.001623015385121107,-0.0006603194633498788,-0.02917046658694744,0.0012320764362812042,0.002086675725877285,0.0007854094728827477,-0.010338411666452885,-0.004579523578286171,-0.0035762570332735777,-0.004986352752894163,-0.010815776884555817,-0.007708468474447727,-0.0025342595763504505,-0.008369645103812218,-0.010975495912134647,-0.01564340479671955,-0.016856202855706215,-0.017646512016654015,-0.015187020413577557,-0.012950867414474487,-0.011714710853993893,-0.019526392221450806,-0.018957534804940224,-0.02655540220439434,-0.014261113479733467,-0.018434910103678703,-0.050632964819669724,-0.017916299402713776,-0.02969871088862419,-0.03519441559910774,-0.04278993234038353,-0.040556054562330246,-0.04126349091529846,-0.033901382237672806,-0.04156142845749855,-0.04305616766214371,-0.04305616766214371,-0.05474027618765831,-0.052564527839422226,-0.04719654843211174,-0.05135714262723923,-0.05697221681475639,-0.08435870707035065,-0.05112003907561302,-0.050372399389743805,-0.04788750410079956,-0.05175458639860153,-0.05089303106069565,-0.05007825791835785,-0.056338828057050705,-0.05525738000869751,-0.05502054840326309,-0.061030950397253036,-0.05090771242976189,-0.05090771242976189,-0.08900650590658188,-0.03772422671318054,-0.05566858500242233,-0.06246156245470047,-0.18651875853538513,-0.10905904322862625,-0.10957568883895874,-0.12001927196979523,-0.11232320219278336,-0.1202467605471611,-0.1381385773420334,-0.1164984479546547,-0.1805618703365326,-0.13592612743377686,-0.17537952959537506,-0.13126617670059204,-0.1299314796924591,-0.13276854157447815,-0.17279654741287231,-0.12696750462055206,-0.21134687960147858],\"yaxis\":\"y\",\"type\":\"scatter\"},{\"hovertemplate\":\"type=Sentiment\\u003cbr\\u003edate=%{x}\\u003cbr\\u003esent=%{y}\\u003cextra\\u003e\\u003c\\u002fextra\\u003e\",\"legendgroup\":\"Sentiment\",\"line\":{\"color\":\"#EF553B\",\"dash\":\"solid\"},\"marker\":{\"symbol\":\"circle\"},\"mode\":\"lines\",\"name\":\"Sentiment\",\"orientation\":\"v\",\"showlegend\":true,\"x\":[\"2017-03-29T00:00:00\",\"2017-03-30T00:00:00\",\"2017-03-31T00:00:00\",\"2017-04-01T00:00:00\",\"2017-04-02T00:00:00\",\"2017-04-03T00:00:00\",\"2017-04-04T00:00:00\",\"2017-04-05T00:00:00\",\"2017-04-06T00:00:00\",\"2017-04-07T00:00:00\",\"2017-04-08T00:00:00\",\"2017-04-09T00:00:00\",\"2017-04-10T00:00:00\",\"2017-04-11T00:00:00\",\"2017-04-12T00:00:00\",\"2017-04-13T00:00:00\",\"2017-04-14T00:00:00\",\"2017-04-15T00:00:00\",\"2017-04-16T00:00:00\",\"2017-04-17T00:00:00\",\"2017-04-18T00:00:00\",\"2017-04-19T00:00:00\",\"2017-04-20T00:00:00\",\"2017-04-21T00:00:00\",\"2017-04-22T00:00:00\",\"2017-04-23T00:00:00\",\"2017-04-24T00:00:00\",\"2017-04-25T00:00:00\",\"2017-04-26T00:00:00\",\"2017-04-27T00:00:00\",\"2017-04-28T00:00:00\",\"2017-04-29T00:00:00\",\"2017-04-30T00:00:00\",\"2017-05-01T00:00:00\",\"2017-05-02T00:00:00\",\"2017-05-03T00:00:00\",\"2017-05-04T00:00:00\",\"2017-05-05T00:00:00\",\"2017-05-06T00:00:00\",\"2017-05-07T00:00:00\",\"2017-05-08T00:00:00\",\"2017-05-09T00:00:00\",\"2017-05-10T00:00:00\",\"2017-05-11T00:00:00\",\"2017-05-12T00:00:00\",\"2017-05-13T00:00:00\",\"2017-05-14T00:00:00\",\"2017-05-15T00:00:00\",\"2017-05-16T00:00:00\",\"2017-05-17T00:00:00\",\"2017-05-18T00:00:00\",\"2017-05-19T00:00:00\",\"2017-05-20T00:00:00\",\"2017-05-21T00:00:00\",\"2017-05-22T00:00:00\",\"2017-05-23T00:00:00\",\"2017-05-24T00:00:00\",\"2017-05-25T00:00:00\",\"2017-05-26T00:00:00\",\"2017-05-27T00:00:00\",\"2017-05-28T00:00:00\",\"2017-05-29T00:00:00\",\"2017-05-30T00:00:00\",\"2017-05-31T00:00:00\",\"2017-06-01T00:00:00\",\"2017-06-02T00:00:00\",\"2017-06-03T00:00:00\",\"2017-06-04T00:00:00\",\"2017-06-05T00:00:00\",\"2017-06-06T00:00:00\",\"2017-06-07T00:00:00\",\"2017-06-08T00:00:00\",\"2017-06-09T00:00:00\",\"2017-06-10T00:00:00\",\"2017-06-11T00:00:00\",\"2017-06-12T00:00:00\",\"2017-06-13T00:00:00\",\"2017-06-14T00:00:00\",\"2017-06-15T00:00:00\",\"2017-06-16T00:00:00\",\"2017-06-17T00:00:00\"],\"xaxis\":\"x\",\"y\":[0.000320513,-0.000440631,0.001255981,0.006949681,0.0121004,0.005555556,0.005555556,0.009375,0.004166667,0.004166667,-0.003629032,-0.0025,-0.010483871,-0.009201389,-0.006666667,-0.008333333,-0.01,-0.005555556,-0.007936508,-0.014010989,-0.018181818,-0.016071429,-0.0175,-0.017767677,-0.020779221,-0.012199081,-0.021428571,-0.011111111,-0.011111111,-0.031439394,-0.025,-0.033875,-0.035615079,-0.027936508,-0.023953634,-0.023953634,-0.022914781,-0.025757576,-0.038636364,-0.053205128,-0.048071625,-0.048071625,-0.051351351,-0.04897343,-0.045486111,-0.042857143,-0.041704545,-0.05530303,-0.054166667,-0.060345805,-0.065740741,-0.06452381,-0.062911726,-0.0625,-0.067368421,-0.058333333,-0.058333333,-0.058333333,-0.057056535,-0.057056535,-0.058035714,-0.08,-0.08,-0.0825,-0.100460526,-0.070480769,-0.085714286,-0.074637681,-0.092307692,-0.098076923,-0.107352941,-0.181753472,-0.175,-0.122222222,-0.158169935,-0.171428571,-0.238408521,-0.144677871,-0.1375,-0.1375,-0.116315789],\"yaxis\":\"y\",\"type\":\"scatter\"}],                        {\"template\":{\"data\":{\"histogram2dcontour\":[{\"type\":\"histogram2dcontour\",\"colorbar\":{\"outlinewidth\":0,\"ticks\":\"\"},\"colorscale\":[[0.0,\"#0d0887\"],[0.1111111111111111,\"#46039f\"],[0.2222222222222222,\"#7201a8\"],[0.3333333333333333,\"#9c179e\"],[0.4444444444444444,\"#bd3786\"],[0.5555555555555556,\"#d8576b\"],[0.6666666666666666,\"#ed7953\"],[0.7777777777777778,\"#fb9f3a\"],[0.8888888888888888,\"#fdca26\"],[1.0,\"#f0f921\"]]}],\"choropleth\":[{\"type\":\"choropleth\",\"colorbar\":{\"outlinewidth\":0,\"ticks\":\"\"}}],\"histogram2d\":[{\"type\":\"histogram2d\",\"colorbar\":{\"outlinewidth\":0,\"ticks\":\"\"},\"colorscale\":[[0.0,\"#0d0887\"],[0.1111111111111111,\"#46039f\"],[0.2222222222222222,\"#7201a8\"],[0.3333333333333333,\"#9c179e\"],[0.4444444444444444,\"#bd3786\"],[0.5555555555555556,\"#d8576b\"],[0.6666666666666666,\"#ed7953\"],[0.7777777777777778,\"#fb9f3a\"],[0.8888888888888888,\"#fdca26\"],[1.0,\"#f0f921\"]]}],\"heatmap\":[{\"type\":\"heatmap\",\"colorbar\":{\"outlinewidth\":0,\"ticks\":\"\"},\"colorscale\":[[0.0,\"#0d0887\"],[0.1111111111111111,\"#46039f\"],[0.2222222222222222,\"#7201a8\"],[0.3333333333333333,\"#9c179e\"],[0.4444444444444444,\"#bd3786\"],[0.5555555555555556,\"#d8576b\"],[0.6666666666666666,\"#ed7953\"],[0.7777777777777778,\"#fb9f3a\"],[0.8888888888888888,\"#fdca26\"],[1.0,\"#f0f921\"]]}],\"heatmapgl\":[{\"type\":\"heatmapgl\",\"colorbar\":{\"outlinewidth\":0,\"ticks\":\"\"},\"colorscale\":[[0.0,\"#0d0887\"],[0.1111111111111111,\"#46039f\"],[0.2222222222222222,\"#7201a8\"],[0.3333333333333333,\"#9c179e\"],[0.4444444444444444,\"#bd3786\"],[0.5555555555555556,\"#d8576b\"],[0.6666666666666666,\"#ed7953\"],[0.7777777777777778,\"#fb9f3a\"],[0.8888888888888888,\"#fdca26\"],[1.0,\"#f0f921\"]]}],\"contourcarpet\":[{\"type\":\"contourcarpet\",\"colorbar\":{\"outlinewidth\":0,\"ticks\":\"\"}}],\"contour\":[{\"type\":\"contour\",\"colorbar\":{\"outlinewidth\":0,\"ticks\":\"\"},\"colorscale\":[[0.0,\"#0d0887\"],[0.1111111111111111,\"#46039f\"],[0.2222222222222222,\"#7201a8\"],[0.3333333333333333,\"#9c179e\"],[0.4444444444444444,\"#bd3786\"],[0.5555555555555556,\"#d8576b\"],[0.6666666666666666,\"#ed7953\"],[0.7777777777777778,\"#fb9f3a\"],[0.8888888888888888,\"#fdca26\"],[1.0,\"#f0f921\"]]}],\"surface\":[{\"type\":\"surface\",\"colorbar\":{\"outlinewidth\":0,\"ticks\":\"\"},\"colorscale\":[[0.0,\"#0d0887\"],[0.1111111111111111,\"#46039f\"],[0.2222222222222222,\"#7201a8\"],[0.3333333333333333,\"#9c179e\"],[0.4444444444444444,\"#bd3786\"],[0.5555555555555556,\"#d8576b\"],[0.6666666666666666,\"#ed7953\"],[0.7777777777777778,\"#fb9f3a\"],[0.8888888888888888,\"#fdca26\"],[1.0,\"#f0f921\"]]}],\"mesh3d\":[{\"type\":\"mesh3d\",\"colorbar\":{\"outlinewidth\":0,\"ticks\":\"\"}}],\"scatter\":[{\"fillpattern\":{\"fillmode\":\"overlay\",\"size\":10,\"solidity\":0.2},\"type\":\"scatter\"}],\"parcoords\":[{\"type\":\"parcoords\",\"line\":{\"colorbar\":{\"outlinewidth\":0,\"ticks\":\"\"}}}],\"scatterpolargl\":[{\"type\":\"scatterpolargl\",\"marker\":{\"colorbar\":{\"outlinewidth\":0,\"ticks\":\"\"}}}],\"bar\":[{\"error_x\":{\"color\":\"#2a3f5f\"},\"error_y\":{\"color\":\"#2a3f5f\"},\"marker\":{\"line\":{\"color\":\"#E5ECF6\",\"width\":0.5},\"pattern\":{\"fillmode\":\"overlay\",\"size\":10,\"solidity\":0.2}},\"type\":\"bar\"}],\"scattergeo\":[{\"type\":\"scattergeo\",\"marker\":{\"colorbar\":{\"outlinewidth\":0,\"ticks\":\"\"}}}],\"scatterpolar\":[{\"type\":\"scatterpolar\",\"marker\":{\"colorbar\":{\"outlinewidth\":0,\"ticks\":\"\"}}}],\"histogram\":[{\"marker\":{\"pattern\":{\"fillmode\":\"overlay\",\"size\":10,\"solidity\":0.2}},\"type\":\"histogram\"}],\"scattergl\":[{\"type\":\"scattergl\",\"marker\":{\"colorbar\":{\"outlinewidth\":0,\"ticks\":\"\"}}}],\"scatter3d\":[{\"type\":\"scatter3d\",\"line\":{\"colorbar\":{\"outlinewidth\":0,\"ticks\":\"\"}},\"marker\":{\"colorbar\":{\"outlinewidth\":0,\"ticks\":\"\"}}}],\"scattermapbox\":[{\"type\":\"scattermapbox\",\"marker\":{\"colorbar\":{\"outlinewidth\":0,\"ticks\":\"\"}}}],\"scatterternary\":[{\"type\":\"scatterternary\",\"marker\":{\"colorbar\":{\"outlinewidth\":0,\"ticks\":\"\"}}}],\"scattercarpet\":[{\"type\":\"scattercarpet\",\"marker\":{\"colorbar\":{\"outlinewidth\":0,\"ticks\":\"\"}}}],\"carpet\":[{\"aaxis\":{\"endlinecolor\":\"#2a3f5f\",\"gridcolor\":\"white\",\"linecolor\":\"white\",\"minorgridcolor\":\"white\",\"startlinecolor\":\"#2a3f5f\"},\"baxis\":{\"endlinecolor\":\"#2a3f5f\",\"gridcolor\":\"white\",\"linecolor\":\"white\",\"minorgridcolor\":\"white\",\"startlinecolor\":\"#2a3f5f\"},\"type\":\"carpet\"}],\"table\":[{\"cells\":{\"fill\":{\"color\":\"#EBF0F8\"},\"line\":{\"color\":\"white\"}},\"header\":{\"fill\":{\"color\":\"#C8D4E3\"},\"line\":{\"color\":\"white\"}},\"type\":\"table\"}],\"barpolar\":[{\"marker\":{\"line\":{\"color\":\"#E5ECF6\",\"width\":0.5},\"pattern\":{\"fillmode\":\"overlay\",\"size\":10,\"solidity\":0.2}},\"type\":\"barpolar\"}],\"pie\":[{\"automargin\":true,\"type\":\"pie\"}]},\"layout\":{\"autotypenumbers\":\"strict\",\"colorway\":[\"#636efa\",\"#EF553B\",\"#00cc96\",\"#ab63fa\",\"#FFA15A\",\"#19d3f3\",\"#FF6692\",\"#B6E880\",\"#FF97FF\",\"#FECB52\"],\"font\":{\"color\":\"#2a3f5f\"},\"hovermode\":\"closest\",\"hoverlabel\":{\"align\":\"left\"},\"paper_bgcolor\":\"white\",\"plot_bgcolor\":\"#E5ECF6\",\"polar\":{\"bgcolor\":\"#E5ECF6\",\"angularaxis\":{\"gridcolor\":\"white\",\"linecolor\":\"white\",\"ticks\":\"\"},\"radialaxis\":{\"gridcolor\":\"white\",\"linecolor\":\"white\",\"ticks\":\"\"}},\"ternary\":{\"bgcolor\":\"#E5ECF6\",\"aaxis\":{\"gridcolor\":\"white\",\"linecolor\":\"white\",\"ticks\":\"\"},\"baxis\":{\"gridcolor\":\"white\",\"linecolor\":\"white\",\"ticks\":\"\"},\"caxis\":{\"gridcolor\":\"white\",\"linecolor\":\"white\",\"ticks\":\"\"}},\"coloraxis\":{\"colorbar\":{\"outlinewidth\":0,\"ticks\":\"\"}},\"colorscale\":{\"sequential\":[[0.0,\"#0d0887\"],[0.1111111111111111,\"#46039f\"],[0.2222222222222222,\"#7201a8\"],[0.3333333333333333,\"#9c179e\"],[0.4444444444444444,\"#bd3786\"],[0.5555555555555556,\"#d8576b\"],[0.6666666666666666,\"#ed7953\"],[0.7777777777777778,\"#fb9f3a\"],[0.8888888888888888,\"#fdca26\"],[1.0,\"#f0f921\"]],\"sequentialminus\":[[0.0,\"#0d0887\"],[0.1111111111111111,\"#46039f\"],[0.2222222222222222,\"#7201a8\"],[0.3333333333333333,\"#9c179e\"],[0.4444444444444444,\"#bd3786\"],[0.5555555555555556,\"#d8576b\"],[0.6666666666666666,\"#ed7953\"],[0.7777777777777778,\"#fb9f3a\"],[0.8888888888888888,\"#fdca26\"],[1.0,\"#f0f921\"]],\"diverging\":[[0,\"#8e0152\"],[0.1,\"#c51b7d\"],[0.2,\"#de77ae\"],[0.3,\"#f1b6da\"],[0.4,\"#fde0ef\"],[0.5,\"#f7f7f7\"],[0.6,\"#e6f5d0\"],[0.7,\"#b8e186\"],[0.8,\"#7fbc41\"],[0.9,\"#4d9221\"],[1,\"#276419\"]]},\"xaxis\":{\"gridcolor\":\"white\",\"linecolor\":\"white\",\"ticks\":\"\",\"title\":{\"standoff\":15},\"zerolinecolor\":\"white\",\"automargin\":true,\"zerolinewidth\":2},\"yaxis\":{\"gridcolor\":\"white\",\"linecolor\":\"white\",\"ticks\":\"\",\"title\":{\"standoff\":15},\"zerolinecolor\":\"white\",\"automargin\":true,\"zerolinewidth\":2},\"scene\":{\"xaxis\":{\"backgroundcolor\":\"#E5ECF6\",\"gridcolor\":\"white\",\"linecolor\":\"white\",\"showbackground\":true,\"ticks\":\"\",\"zerolinecolor\":\"white\",\"gridwidth\":2},\"yaxis\":{\"backgroundcolor\":\"#E5ECF6\",\"gridcolor\":\"white\",\"linecolor\":\"white\",\"showbackground\":true,\"ticks\":\"\",\"zerolinecolor\":\"white\",\"gridwidth\":2},\"zaxis\":{\"backgroundcolor\":\"#E5ECF6\",\"gridcolor\":\"white\",\"linecolor\":\"white\",\"showbackground\":true,\"ticks\":\"\",\"zerolinecolor\":\"white\",\"gridwidth\":2}},\"shapedefaults\":{\"line\":{\"color\":\"#2a3f5f\"}},\"annotationdefaults\":{\"arrowcolor\":\"#2a3f5f\",\"arrowhead\":0,\"arrowwidth\":1},\"geo\":{\"bgcolor\":\"white\",\"landcolor\":\"#E5ECF6\",\"subunitcolor\":\"white\",\"showland\":true,\"showlakes\":true,\"lakecolor\":\"white\"},\"title\":{\"x\":0.05},\"mapbox\":{\"style\":\"light\"}}},\"xaxis\":{\"anchor\":\"y\",\"domain\":[0.0,1.0],\"title\":{\"text\":\"date\"}},\"yaxis\":{\"anchor\":\"x\",\"domain\":[0.0,1.0],\"title\":{\"text\":\"sent\"}},\"legend\":{\"title\":{\"text\":\"type\"},\"tracegroupgap\":0},\"margin\":{\"t\":60}},                        {\"responsive\": true}                    ).then(function(){\n",
       "                            \n",
       "var gd = document.getElementById('0202f097-c07f-45b1-808d-115b18cf1d58');\n",
       "var x = new MutationObserver(function (mutations, observer) {{\n",
       "        var display = window.getComputedStyle(gd).display;\n",
       "        if (!display || display === 'none') {{\n",
       "            console.log([gd, 'removed!']);\n",
       "            Plotly.purge(gd);\n",
       "            observer.disconnect();\n",
       "        }}\n",
       "}});\n",
       "\n",
       "// Listen for the removal of the full notebook cells\n",
       "var notebookContainer = gd.closest('#notebook-container');\n",
       "if (notebookContainer) {{\n",
       "    x.observe(notebookContainer, {childList: true});\n",
       "}}\n",
       "\n",
       "// Listen for the clearing of the current output cell\n",
       "var outputEl = gd.closest('.output');\n",
       "if (outputEl) {{\n",
       "    x.observe(outputEl, {childList: true});\n",
       "}}\n",
       "\n",
       "                        })                };                });            </script>        </div>"
      ]
     },
     "metadata": {},
     "output_type": "display_data"
    }
   ],
   "source": [
    "########################################## DATA PREPARATION #############################################################\n",
    "file_name = \"C:\\\\Users\\\\jimni\\\\LocalCapstone\\\\topic_csv\\\\1.csv\"\n",
    "df = pd.read_csv(file_name, header = 0)\n",
    "\n",
    "#print(df)\n",
    "df = df.drop(labels = ['Unnamed: 0'], axis = 1)\n",
    "df['Sentiment'].plot()\n",
    "\n",
    "plt.show()\n",
    "\n",
    "#print(df)\n",
    "\n",
    "df2 = pd.DataFrame(columns=[\"year\", \"month\", \"day\", \"date\"])\n",
    "df3 = df[\"date\"].copy()\n",
    "year = []\n",
    "day = []\n",
    "month = []\n",
    "\n",
    "for i in df3:\n",
    "    if \"/\" in i:\n",
    "        #print(i)\n",
    "        date_object = datetime.strptime(i, \"%m/%d/%Y\")\n",
    "        #print(date_object, type(date_object.month))\n",
    "        year.append(date_object.year)\n",
    "        day.append(date_object.day)\n",
    "        month.append(date_object.month)\n",
    "    if \"-\" in i:\n",
    "        date_object = datetime.strptime(i, \"%d-%b-%y\")\n",
    "        #print(date_object, type(date_object.month))\n",
    "        year.append(date_object.year)\n",
    "        day.append(date_object.day)\n",
    "        month.append(date_object.month)\n",
    "\n",
    "\n",
    "    if \",\" in i:\n",
    "        if \"Sept.\" in i:\n",
    "\n",
    "            date_object = datetime.strptime(i, \"%bt. %d, %Y\")\n",
    "            #print(date_object)\n",
    "            year.append(date_object.year)\n",
    "            day.append(date_object.day)\n",
    "            month.append(date_object.month)\n",
    "        else:\n",
    "            date_object = datetime.strptime(i, \"%b. %d, %Y\")\n",
    "            #print(date_object)\n",
    "            year.append(date_object.year)\n",
    "            day.append(date_object.day)\n",
    "            month.append(date_object.month)\n",
    "\n",
    "#print(type(year))\n",
    "df2[\"year\"] = year\n",
    "df2[\"day\"] = day\n",
    "df2[\"month\"] = month\n",
    "\n",
    "test = pd.DataFrame(columns=[\"year\", \"month\", \"day\", \"date\",\"Sentiment\", \"Subjectivity\", \"neg\", \"neu\", \"pos\",\"compound\", \"Topic Prob\"])\n",
    "test[[\"year\", \"month\", \"day\"]] = df2[['year','month','day']]\n",
    "#date[\"date\"] = pd.to_datetime(date[[\"year\", \"month\", \"day\"]])\n",
    "test[\"date\"] = df2[[\"date\"]]\n",
    "test[[\"Sentiment\", \"Subjectivity\", \"neg\", \"neu\", \"pos\",\"compound\", \"Topic Prob\"]] = df[[\"Sentiment\", \"Subjectivity\", \"neg\", \"neu\", \"pos\",\"compound\", \"Topic Prob\"]]\n",
    "\n",
    "#print(type(test))\n",
    "#print(test)\n",
    "#print(test[[\"Sentiment\"]].dtypes)\n",
    "test['Sentiment'] = test['Sentiment'].astype(float)\n",
    "test['Subjectivity'] = test['Subjectivity'].astype(float)\n",
    "test['Topic Prob'] = test['Topic Prob'].astype(float)\n",
    "#print(test)\n",
    "\n",
    "\n",
    "#indecies = []\n",
    "index = 0\n",
    "for i in test[\"Sentiment\"]:\n",
    "    if i == 0:\n",
    "        test = test.drop(labels = index, axis = 0)\n",
    "    #print(index)\n",
    "    index += 1\n",
    "\n",
    "\n",
    "test[\"date\"] = pd.to_datetime(df2[[\"year\", \"month\", \"day\"]])\n",
    "test = test.sort_values(by=\"date\")\n",
    "#print(test)\n",
    "\n",
    "########################################### Training/Test/Validation Split #############################################\n",
    "\n",
    "split = 0.85\n",
    "\n",
    "\n",
    "dates_to_check = test[\"date\"].unique()\n",
    "split_index = int(dates_to_check.shape[0] * split)\n",
    "\n",
    "split_date = dates_to_check[split_index]\n",
    "print(split_date)\n",
    "\n",
    "training = test.query(\"date <= @split_date\")\n",
    "valid = test.query(\"date > @split_date\")\n",
    "\n",
    "#print(test)\n",
    "\n",
    "#features = [\"year\", \"month\", \"day\", \"neg\", \"neu\", \"pos\", \"compound\", \"Subjectivity\", \"Topic Prob\"]\n",
    "#features = [\"year\", \"month\", \"day\", \"neg\", \"neu\", \"pos\", \"compound\", \"Topic Prob\"]\n",
    "features = [\"year\", \"month\", \"day\", \"neg\", \"neu\", \"pos\",\"compound\", \"Subjectivity\"]\n",
    "#features = [\"year\", \"month\", \"day\", \"neg\", \"neu\", \"pos\",\"compound\"]\n",
    "#features = [\"year\", \"month\", \"day\"]\n",
    "#features = [\"year\", \"month\", \"day\", \"Subjectivity\", \"Topic Prob\"]\n",
    "\n",
    "#features = [\"year\", \"month\", \"day\", \"topic prob\", \"subjectivity\", \"publisher\"]\n",
    "y = [\"Sentiment\"]\n",
    "x_train = training[features]\n",
    "y_train = training[y]\n",
    "x_valid = valid[features]\n",
    "y_valid = valid[y]\n",
    "#print(x_train)\n",
    "#print(x_valid)\n",
    "\n",
    "\n",
    "#print(test.isnull().sum())\n",
    "\n",
    "#train_dmatrix = xgb.DMatrix(data = x_train.values, label = y_train.values)\n",
    "from sklearn.model_selection import train_test_split\n",
    "\n",
    "X_train,X_eval,Y_train,Y_eval = train_test_split(x_train, y_train, test_size = 0.15, random_state = 0)\n",
    "\n",
    "\n",
    "\n",
    "########################## Defining the model based off hyperparameters found in tuning ########################\n",
    "\n",
    "if file_name == \"C:\\\\Users\\\\jimni\\LocalCapstone\\\\topic_csv\\\\2.csv\":\n",
    "    model = xgb.XGBRegressor(n_estimators = 1000,\n",
    "                            max_depth = 4,\n",
    "                            min_child_weight = 1.1,\n",
    "                            learning_rate = 0.235789)\n",
    "    \n",
    "elif (file_name == 'C:\\\\Users\\\\jimni\\LocalCapstone\\\\topic_csv\\\\1.csv'):\n",
    "    model = xgb.XGBRegressor(n_estimators = 300,\n",
    "                            max_depth = 4,\n",
    "                            min_child_weight = 1.1,\n",
    "                            learning_rate = 0.15)\n",
    "elif file_name == 'C:\\\\Users\\\\jimni\\LocalCapstone\\\\topic_csv\\\\3.csv':\n",
    "    \n",
    "    model = xgb.XGBRegressor(n_estimators = 1000,\n",
    "                             max_depth = 4,\n",
    "                             min_child_weight = 1.1,\n",
    "                             learning_rate = 0.235789)\n",
    "\n",
    "\n",
    "#loaded = pickle.load(open(\"/home/jnieberding/LocalCapstone/env/xgb_model.pkl\", 'rb'))\n",
    "model.fit(X_train, Y_train,\n",
    "         eval_set = [(X_eval, Y_eval)],  verbose = 0)    \n",
    "\n",
    "xgb.plot_importance(model, height = 0.9)\n",
    "plt.show()\n",
    "\n",
    "fig, ax = plt.subplots(figsize=(30, 30))\n",
    "xgb.plot_tree(model, num_trees=4, ax=ax)\n",
    "plt.show()\n",
    "\n",
    "\n",
    "\n",
    "####################################### Prediction Creation ############################################\n",
    "\n",
    "pred_eval = X_eval.copy()\n",
    "pred_valid = x_valid.copy()\n",
    "\n",
    "#print(pred)\n",
    "date_stuff = [\"year\", \"month\", \"day\"]\n",
    "\n",
    "pred_eval[\"Sentiment prediction\"] = model.predict(X_eval)\n",
    "\n",
    "pred_eval[\"date\"] = pd.to_datetime(pred_eval[date_stuff])\n",
    "pred_eval = pred_eval.sort_values(by=\"date\")\n",
    "pred_eval[\"Sentiment\"] = Y_eval\n",
    "#print(pred_eval)\n",
    "article_list = []\n",
    "for i in pred_eval.index:\n",
    "  article_list.append(df['article'].loc[i])\n",
    "\n",
    "pred_eval['article'] = article_list\n",
    "#print(pred_eval)\n",
    "\n",
    "pred_valid[\"Sentiment prediction\"] = model.predict(x_valid)\n",
    "pred_valid[\"Sentiment\"] = y_valid\n",
    "\n",
    "\n",
    "pred_valid[\"date\"] = pd.to_datetime(pred_valid[date_stuff])\n",
    "pred_valid = pred_valid.sort_values(by=\"date\")\n",
    "\n",
    "article_list = []\n",
    "for i in pred_valid.index:\n",
    "  article_list.append(df['article'].loc[i])\n",
    "\n",
    "pred_valid['article'] = article_list\n",
    "\n",
    "\n",
    "\n",
    "#################################### Evaluation Metrics of the Predicted Values ###########################\n",
    "\n",
    "\n",
    "print(\"TESTING SCORES\")\n",
    "mae = mean_absolute_error(pred_eval[\"Sentiment\"], pred_eval['Sentiment prediction'])\n",
    "print('Mean Absolute Error:', mae)\n",
    "\n",
    "mse = mean_squared_error(pred_eval[\"Sentiment\"], pred_eval['Sentiment prediction'])\n",
    "print('Mean Squared Error:', mse)\n",
    "rmse = mean_squared_error(pred_eval[\"Sentiment\"], pred_eval['Sentiment prediction'], squared = False)\n",
    "print('Root Mean Squared Error:', rmse)\n",
    "\n",
    "r2 = r2_score(pred_eval[\"Sentiment\"], pred_eval[\"Sentiment prediction\"])\n",
    "print('R2 Score:', r2)\n",
    "\n",
    "adjusted_r2 = 1 - (((1-r2)*(pred_valid.shape[0] - 1)) / (pred_valid.shape[0] - x_valid.shape[1] - 1))\n",
    "print('Adjusted R2 Score:',adjusted_r2)\n",
    "\n",
    "\n",
    "print(\"\\n\\nVALIDATION SCORES\")\n",
    "mae = mean_absolute_error(pred_valid[\"Sentiment\"], pred_valid['Sentiment prediction'])\n",
    "print('Mean Absolute Error:', mae)\n",
    "\n",
    "mse = mean_squared_error(pred_valid[\"Sentiment\"], pred_valid['Sentiment prediction'])\n",
    "print('Mean Squared Error:', mse)\n",
    "rmse = mean_squared_error(pred_valid[\"Sentiment\"], pred_valid['Sentiment prediction'], squared = False)\n",
    "print('Root Mean Squared Error:', rmse)\n",
    "\n",
    "r2 = r2_score(pred_valid[\"Sentiment\"], pred_valid[\"Sentiment prediction\"])\n",
    "print('R2 Score:', r2)\n",
    "\n",
    "#print(pred_valid.shape[0], x_valid.shape[1])\n",
    "adjusted_r2 = 1 - (((1-r2)*(pred_valid.shape[0] - 1)) / (pred_valid.shape[0] - x_valid.shape[1] - 1))\n",
    "print('Adjusted R2 Score:',adjusted_r2,'\\n\\n')\n",
    "\n",
    "\n",
    "\n",
    "############################## Plotting the results of the Testing Set using during training #############################\n",
    "\n",
    "print(\"Feature Vector with all Features\\n\\nPrediction of the Testing Set\")\n",
    "pred_vis = pred_eval.melt(id_vars = [\"date\"], value_vars = [\"Sentiment prediction\", \"Sentiment\"],var_name = \"type\", value_name = \"sent\")\n",
    "\n",
    "fig = px.line(pred_vis, x = \"date\", y = \"sent\", color = \"type\", )\n",
    "fig.show()\n",
    "\n",
    "\n",
    "#################################### Gathering the articles that are associated with peaks and valleys ##################\n",
    "\n",
    "'''testing = pred_eval.copy()\n",
    "#print(testing)\n",
    "##print(testing)\n",
    "testing = testing.reset_index()\n",
    "\n",
    "\n",
    "\n",
    "ind = testing['Sentiment'].idxmax(axis = 0)\n",
    "\n",
    "\n",
    "print(\"The max predicted sentiment was on\", testing['date'].loc[ind])\n",
    "for i in range(ind-1, ind + 2):\n",
    "  print('\\n\\nDate:',testing['date'].loc[i])\n",
    "  print(\"The actual sentiment was\", testing[\"Sentiment\"].loc[i])\n",
    "  print(\"The predicted sentiment is\", testing['Sentiment prediction'].loc[i])\n",
    "  print(\"Article:\\n\", testing['article'].loc[i])\n",
    "    \n",
    "\n",
    "\n",
    "\n",
    "ind = testing['Sentiment'].idxmin(axis = 0)\n",
    "\n",
    "\n",
    "print(\"\\n#######################################\\nThe min predicted sentiment was on\", testing['date'].loc[ind])\n",
    "for i in range(ind-1, ind + 2):\n",
    "  print('\\n\\nDate:',testing['date'].loc[i])\n",
    "  print(\"The actual sentiment was\", testing[\"Sentiment\"].loc[i])\n",
    "  print(\"The predicted sentiment is\", testing['Sentiment prediction'].loc[i])\n",
    "  print(\"Article:\\n\", testing['article'].loc[i])'''\n",
    "    \n",
    "    \n",
    "################################### Plotting the prediction results of the validation set #################################\n",
    "    \n",
    "print(\"Feature Vector with all Features\\n\\nPrediction of the Validation Set\")\n",
    "pred_vis = pred_valid.melt(id_vars = [\"date\"], value_vars = [\"Sentiment prediction\", \"Sentiment\"],var_name = \"type\", value_name = \"sent\")\n",
    "\n",
    "fig = px.line(pred_vis, x = \"date\", y = \"sent\", color = \"type\", )\n",
    "fig.show()    \n",
    " \n",
    "    \n",
    "    \n",
    "    \n"
   ]
  },
  {
   "cell_type": "markdown",
   "id": "8df8dcb9",
   "metadata": {},
   "source": [
    "**Narrative Curve With Loaded Trained Model**"
   ]
  },
  {
   "cell_type": "code",
   "execution_count": null,
   "id": "ffd9a55f",
   "metadata": {},
   "outputs": [],
   "source": []
  }
 ],
 "metadata": {
  "kernelspec": {
   "display_name": "Python 3 (ipykernel)",
   "language": "python",
   "name": "python3"
  },
  "language_info": {
   "codemirror_mode": {
    "name": "ipython",
    "version": 3
   },
   "file_extension": ".py",
   "mimetype": "text/x-python",
   "name": "python",
   "nbconvert_exporter": "python",
   "pygments_lexer": "ipython3",
   "version": "3.11.8"
  }
 },
 "nbformat": 4,
 "nbformat_minor": 5
}
